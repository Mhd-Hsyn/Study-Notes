{
  "nbformat": 4,
  "nbformat_minor": 0,
  "metadata": {
    "colab": {
      "provenance": []
    },
    "kernelspec": {
      "name": "python3",
      "display_name": "Python 3"
    },
    "language_info": {
      "name": "python"
    }
  },
  "cells": [
    {
      "cell_type": "markdown",
      "source": [
        "  # ***args  and  *kwargs**  in method"
      ],
      "metadata": {
        "id": "gzLXNuHxDMhT"
      }
    },
    {
      "cell_type": "code",
      "execution_count": null,
      "metadata": {
        "colab": {
          "base_uri": "https://localhost:8080/"
        },
        "id": "uS4tjDYWCGVT",
        "outputId": "1c032792-b6ed-4380-a8e3-1d7a1cea4075"
      },
      "outputs": [
        {
          "output_type": "stream",
          "name": "stdout",
          "text": [
            "1\n",
            "2\n",
            "3\n"
          ]
        }
      ],
      "source": [
        "\"\"\"\n",
        "\n",
        "*args  Inside the function, *args is treated as a tuple of all the passed positional arguments.\n",
        "\n",
        "\"\"\"\n",
        "\n",
        "def my_function(*args):\n",
        "    for arg in args:        # Treat as a Tuple\n",
        "        print(arg)\n",
        "\n",
        "my_function(1, 2, 3)"
      ]
    },
    {
      "cell_type": "code",
      "source": [
        "\"\"\"\n",
        "\n",
        "**kwargs: Variable-Length Keyword Arguments\n",
        "\n",
        "**kwargs is treated as a dictionary of all the passed keyword arguments.\n",
        "\n",
        "\"\"\"\n",
        "\n",
        "\n",
        "def my_function(**kwargs):\n",
        "    for key, value in kwargs.items():         # Treat as a Dictionary\n",
        "        print(f\"{key}: {value}\")\n",
        "\n",
        "my_function(name=\"Alice\", age=30, city=\"New York\")"
      ],
      "metadata": {
        "colab": {
          "base_uri": "https://localhost:8080/"
        },
        "id": "wJj3UcYlEFFP",
        "outputId": "b71520ef-7678-4573-aa9b-3067608a4b29"
      },
      "execution_count": null,
      "outputs": [
        {
          "output_type": "stream",
          "name": "stdout",
          "text": [
            "name: Alice\n",
            "age: 30\n",
            "city: New York\n"
          ]
        }
      ]
    },
    {
      "cell_type": "code",
      "source": [
        "\"\"\"\n",
        "\n",
        "Use both    *args and **kwargs together:\n",
        "\n",
        "\"\"\"\n",
        "\n",
        "def my_function(*args, **kwargs):\n",
        "    print(\"Positional arguments:\", args)           # tuple\n",
        "    print(\"Keyword arguments:\", kwargs)            # dict\n",
        "\n",
        "my_function(1, 2, 3, name=\"Alice\", age=30)"
      ],
      "metadata": {
        "colab": {
          "base_uri": "https://localhost:8080/"
        },
        "id": "mt_357NPEn7i",
        "outputId": "9fd3f8ed-c4c6-4001-c4b8-573b938c3307"
      },
      "execution_count": null,
      "outputs": [
        {
          "output_type": "stream",
          "name": "stdout",
          "text": [
            "Positional arguments: (1, 2, 3)\n",
            "Keyword arguments: {'name': 'Alice', 'age': 30}\n"
          ]
        }
      ]
    },
    {
      "cell_type": "markdown",
      "source": [
        "# **OOP CONCEPTS Polymorphism**\n",
        "## **Method Overloading**\n",
        "\n",
        "\n",
        "*   Method Overloading is a same method with same name repeat itself in the same class but with different parameter in method\n",
        "\n",
        "#### Example:\n",
        "  * def calculator( x, y )\n",
        "  * def calculator( x, y, z )\n",
        "\n",
        "## In Python\n",
        "\n",
        "* In Python, you can't overload methods in the traditional sense as you can in Java. However, you can achieve similar functionality by using default arguments, variable-length arguments (*args), or by manually checking the types of arguments. Below is how you can convert the Java code to Python:\n",
        "\n"
      ],
      "metadata": {
        "id": "5MXez9jeFZ3r"
      }
    },
    {
      "cell_type": "code",
      "source": [
        "\"\"\"\n",
        "Example No. 01\n",
        "\"\"\"\n",
        "\n",
        "class Calculator:\n",
        "    def add(self, *args):\n",
        "        return sum(args)\n",
        "\n",
        "# Create an instance of the Calculator class\n",
        "calc = Calculator()\n",
        "\n",
        "# Call the add method with different numbers of arguments\n",
        "print(calc.add(5))          # Output: 5\n",
        "print(calc.add(5, 10))      # Output: 15\n",
        "print(calc.add(5, 10, 15))  # Output: 30"
      ],
      "metadata": {
        "colab": {
          "base_uri": "https://localhost:8080/"
        },
        "id": "xJMh4DnXE1Pc",
        "outputId": "cc574e54-eeee-4bb4-8449-f3e53c71281a"
      },
      "execution_count": null,
      "outputs": [
        {
          "output_type": "stream",
          "name": "stdout",
          "text": [
            "5\n",
            "15\n",
            "30\n"
          ]
        }
      ]
    },
    {
      "cell_type": "code",
      "source": [
        "\"\"\"\n",
        "Example No. 02\n",
        "\"\"\"\n",
        "\n",
        "class Calculator:\n",
        "\n",
        "    def add(self, *args):\n",
        "        if len(args) == 2:\n",
        "            return args[0] + args[1]\n",
        "        elif len(args) == 3:\n",
        "            return args[0] + args[1] + args[2]\n",
        "        else:\n",
        "            raise TypeError(\"add() takes either 2 or 3 arguments\")\n",
        "\n",
        "\n",
        "calc = Calculator()\n",
        "\n",
        "# Calling the add method with different arguments\n",
        "print(calc.add(5, 10))          # Output: 15 (like add(int, int))\n",
        "print(calc.add(5, 10, 15))      # Output: 30 (like add(int, int, int))\n",
        "print(calc.add(5.5, 10.5))      # Output: 16.0 (like add(double, double))\n",
        "print(calc.add(5.5, 10.5, 15.5)) # Output: 31.5 (like add(double, double, double))\n"
      ],
      "metadata": {
        "colab": {
          "base_uri": "https://localhost:8080/"
        },
        "id": "JKXjpPPENLzF",
        "outputId": "4bc7877c-ad3e-454d-c7b4-3cc7f84bf5c8"
      },
      "execution_count": null,
      "outputs": [
        {
          "output_type": "stream",
          "name": "stdout",
          "text": [
            "15\n",
            "30\n",
            "16.0\n",
            "31.5\n"
          ]
        }
      ]
    },
    {
      "cell_type": "markdown",
      "source": [
        "## **Method Overriding**"
      ],
      "metadata": {
        "id": "sB1diaXcfS3V"
      }
    },
    {
      "cell_type": "code",
      "source": [
        "class Animal:\n",
        "    def speak(self):\n",
        "        return \"The animal makes a sound\"\n",
        "\n",
        "class Dog(Animal):\n",
        "    def speak(self):\n",
        "        return super().speak() + \" and the dog barks\"\n",
        "\n",
        "# Create an instance of the Dog class\n",
        "dog = Dog()\n",
        "\n",
        "# Call the speak method\n",
        "print(dog.speak())  # Output: The animal makes a sound and the dog barks\n"
      ],
      "metadata": {
        "colab": {
          "base_uri": "https://localhost:8080/"
        },
        "id": "dcRLmCbadCAY",
        "outputId": "c4c3171f-2359-43b8-8e32-097303cca1dc"
      },
      "execution_count": null,
      "outputs": [
        {
          "output_type": "stream",
          "name": "stdout",
          "text": [
            "The animal makes a sound and the dog barks\n"
          ]
        }
      ]
    },
    {
      "cell_type": "markdown",
      "source": [
        "# **Python DATA STRUCTURE**"
      ],
      "metadata": {
        "id": "1MfYDkIVf2pU"
      }
    },
    {
      "cell_type": "markdown",
      "source": [
        "### **LIST**\n",
        "\n",
        "*   When you need an ordered collection of items.\n",
        "*   When you need to modify the collection (e.g., adding, removing, or changing elements).\n",
        "* When you need to store duplicates.\n"
      ],
      "metadata": {
        "id": "r6Q8FWhSgCBC"
      }
    },
    {
      "cell_type": "code",
      "source": [
        "# Creating a list\n",
        "fruits = [\"apple\", \"banana\", \"cherry\", \"apple\"]\n",
        "\n",
        "# Accessing elements\n",
        "print(fruits[1])  # Output: banana\n",
        "\n",
        "# Modifying elements\n",
        "fruits[1] = \"blueberry\"\n",
        "print(fruits)  # Output: ['apple', 'blueberry', 'cherry', 'apple']\n",
        "\n",
        "# Adding elements\n",
        "fruits.append(\"orange\")\n",
        "print(fruits)  # Output: ['apple', 'blueberry', 'cherry', 'apple', 'orange']\n",
        "\n",
        "# Removing elements\n",
        "fruits.remove(\"apple\")\n",
        "print(fruits)  # Output: ['blueberry', 'cherry', 'apple', 'orange']\n",
        "\n",
        "# Lists allow duplicates\n",
        "print(fruits)  # Output: ['blueberry', 'cherry', 'apple', 'orange']\n",
        "\n",
        "fruits.pop(0)\n",
        "print(fruits)\n",
        "\n"
      ],
      "metadata": {
        "colab": {
          "base_uri": "https://localhost:8080/"
        },
        "id": "p-iRzW-gfgAF",
        "outputId": "77728c10-f331-4c96-ba5a-3fae4cb71abe"
      },
      "execution_count": null,
      "outputs": [
        {
          "output_type": "stream",
          "name": "stdout",
          "text": [
            "banana\n",
            "['apple', 'blueberry', 'cherry', 'apple']\n",
            "['apple', 'blueberry', 'cherry', 'apple', 'orange']\n",
            "['blueberry', 'cherry', 'apple', 'orange']\n",
            "['blueberry', 'cherry', 'apple', 'orange']\n",
            "['cherry', 'apple', 'orange']\n"
          ]
        }
      ]
    },
    {
      "cell_type": "markdown",
      "source": [
        "### **TUPLE**\n",
        "\n",
        "*   When you need an ordered collection of items that should not change.\n",
        "*   When you need to ensure the integrity of data that should remain constant.\n",
        "*   When you want to use items as dictionary keys (since tuples are hashable, unlike lists).\n",
        "\n"
      ],
      "metadata": {
        "id": "qg3EUsSWgrVT"
      }
    },
    {
      "cell_type": "code",
      "source": [
        "# Creating a tuple\n",
        "coordinates = (10.0, 20.0, 30.0)\n",
        "\n",
        "# Accessing elements\n",
        "print(coordinates[1])  # Output: 20.0\n",
        "\n",
        "# Tuples are immutable, so the following line would raise an error:\n",
        "# coordinates[1] = 25.0  # Error: 'tuple' object does not support item assignment\n",
        "\n",
        "# Tuples can be used as keys in dictionaries\n",
        "location_dict = {coordinates: \"Point A\"}\n",
        "print(location_dict)  # Output: {(10.0, 20.0, 30.0): 'Point A'}\n"
      ],
      "metadata": {
        "colab": {
          "base_uri": "https://localhost:8080/"
        },
        "id": "1l8e8xfmgfAj",
        "outputId": "b9ec2cd0-ae7a-4113-9b56-57a0d8e333b5"
      },
      "execution_count": null,
      "outputs": [
        {
          "output_type": "stream",
          "name": "stdout",
          "text": [
            "20.0\n",
            "{(10.0, 20.0, 30.0): 'Point A'}\n"
          ]
        }
      ]
    },
    {
      "cell_type": "markdown",
      "source": [
        "### **SET**\n",
        "\n",
        "*   When you need to store unique items and eliminate duplicates.\n",
        "*   When you need to perform mathematical set operations (e.g., union, intersection, difference).\n",
        "*   When you don't need to maintain the order of elements."
      ],
      "metadata": {
        "id": "oVNju3YYirPF"
      }
    },
    {
      "cell_type": "code",
      "source": [
        "# Creating a set\n",
        "colors = {\"red\", \"green\", \"blue\", \"red\"}\n",
        "\n",
        "# Sets do not allow duplicates\n",
        "print(colors)  # Output: {'blue', 'red', 'green'}\n",
        "\n",
        "# Adding elements\n",
        "colors.add(\"yellow\")\n",
        "print(colors)  # Output: {'blue', 'yellow', 'red', 'green'}\n",
        "\n",
        "# Removing elements\n",
        "colors.remove(\"green\")\n",
        "print(colors)  # Output: {'blue', 'yellow', 'red'}\n",
        "\n",
        "# Mathematical set operations\n",
        "other_colors = {\"red\", \"black\", \"white\"}\n",
        "union_colors = colors.union(other_colors)\n",
        "print(union_colors)  # Output: {'red', 'blue', 'yellow', 'black', 'white'}\n",
        "\n",
        "intersection_colors = colors.intersection(other_colors)\n",
        "print(intersection_colors)  # Output: {'red'}\n"
      ],
      "metadata": {
        "colab": {
          "base_uri": "https://localhost:8080/"
        },
        "id": "Mkxd5wzmhIVN",
        "outputId": "32593d44-aef9-4175-b821-f3bde7981b95"
      },
      "execution_count": null,
      "outputs": [
        {
          "output_type": "stream",
          "name": "stdout",
          "text": [
            "{'blue', 'green', 'red'}\n",
            "{'blue', 'green', 'red', 'yellow'}\n",
            "{'blue', 'red', 'yellow'}\n",
            "{'blue', 'red', 'yellow', 'white', 'black'}\n",
            "{'red'}\n"
          ]
        }
      ]
    },
    {
      "cell_type": "code",
      "source": [
        "\"\"\"\n",
        "BEST USE OF SET\n",
        "\"\"\"\n",
        "\n",
        "my_list= [1, 3, 5, 6, 3, 5, 6, 1, 2, 8]           # u see the duplication in list, if u want to remain only unique numbers\n",
        "print(my_list)\n",
        "\n",
        "my_set= set(my_list)\n",
        "print(my_set)\n",
        "\n",
        "my_list= list(my_set)\n",
        "print(my_list)"
      ],
      "metadata": {
        "colab": {
          "base_uri": "https://localhost:8080/"
        },
        "id": "cmXW-1h9i6X2",
        "outputId": "a2becad9-fe36-42b4-c992-d8cb51b655f2"
      },
      "execution_count": null,
      "outputs": [
        {
          "output_type": "stream",
          "name": "stdout",
          "text": [
            "[1, 3, 5, 6, 3, 5, 6, 1, 2, 8]\n",
            "{1, 2, 3, 5, 6, 8}\n",
            "[1, 2, 3, 5, 6, 8]\n"
          ]
        }
      ]
    },
    {
      "cell_type": "markdown",
      "source": [
        "## **SCOPE IN PYTHON**\n",
        "\n",
        "* How you access outer scope variable in function\n"
      ],
      "metadata": {
        "id": "VVDG5eJUqZrY"
      }
    },
    {
      "cell_type": "code",
      "source": [
        "a= 10\n",
        "\n",
        "def change_value_of_a():\n",
        "\n",
        "  # How you access global variable in function\n",
        "  # How you access outer scope variable in function\n",
        "\n",
        "  b = a + 5\n",
        "  a = b\n",
        "\n",
        "change_value_of_a()\n",
        "print(a)"
      ],
      "metadata": {
        "colab": {
          "base_uri": "https://localhost:8080/",
          "height": 315
        },
        "id": "1vKe0_qtjplF",
        "outputId": "2ef8748f-117c-40de-ee2c-45100980f0ce"
      },
      "execution_count": null,
      "outputs": [
        {
          "output_type": "error",
          "ename": "UnboundLocalError",
          "evalue": "local variable 'a' referenced before assignment",
          "traceback": [
            "\u001b[0;31m---------------------------------------------------------------------------\u001b[0m",
            "\u001b[0;31mUnboundLocalError\u001b[0m                         Traceback (most recent call last)",
            "\u001b[0;32m<ipython-input-34-82565da1902f>\u001b[0m in \u001b[0;36m<cell line: 10>\u001b[0;34m()\u001b[0m\n\u001b[1;32m      8\u001b[0m   \u001b[0ma\u001b[0m \u001b[0;34m=\u001b[0m \u001b[0mb\u001b[0m\u001b[0;34m\u001b[0m\u001b[0;34m\u001b[0m\u001b[0m\n\u001b[1;32m      9\u001b[0m \u001b[0;34m\u001b[0m\u001b[0m\n\u001b[0;32m---> 10\u001b[0;31m \u001b[0mchange_value_of_a\u001b[0m\u001b[0;34m(\u001b[0m\u001b[0;34m)\u001b[0m\u001b[0;34m\u001b[0m\u001b[0;34m\u001b[0m\u001b[0m\n\u001b[0m\u001b[1;32m     11\u001b[0m \u001b[0mprint\u001b[0m\u001b[0;34m(\u001b[0m\u001b[0ma\u001b[0m\u001b[0;34m)\u001b[0m\u001b[0;34m\u001b[0m\u001b[0;34m\u001b[0m\u001b[0m\n",
            "\u001b[0;32m<ipython-input-34-82565da1902f>\u001b[0m in \u001b[0;36mchange_value_of_a\u001b[0;34m()\u001b[0m\n\u001b[1;32m      5\u001b[0m   \u001b[0;31m# How you access global variable in function\u001b[0m\u001b[0;34m\u001b[0m\u001b[0;34m\u001b[0m\u001b[0m\n\u001b[1;32m      6\u001b[0m \u001b[0;34m\u001b[0m\u001b[0m\n\u001b[0;32m----> 7\u001b[0;31m   \u001b[0mb\u001b[0m \u001b[0;34m=\u001b[0m \u001b[0ma\u001b[0m \u001b[0;34m+\u001b[0m \u001b[0;36m5\u001b[0m\u001b[0;34m\u001b[0m\u001b[0;34m\u001b[0m\u001b[0m\n\u001b[0m\u001b[1;32m      8\u001b[0m   \u001b[0ma\u001b[0m \u001b[0;34m=\u001b[0m \u001b[0mb\u001b[0m\u001b[0;34m\u001b[0m\u001b[0;34m\u001b[0m\u001b[0m\n\u001b[1;32m      9\u001b[0m \u001b[0;34m\u001b[0m\u001b[0m\n",
            "\u001b[0;31mUnboundLocalError\u001b[0m: local variable 'a' referenced before assignment"
          ]
        }
      ]
    },
    {
      "cell_type": "code",
      "source": [
        "a= 10\n",
        "\n",
        "def change_value_of_a():\n",
        "\n",
        "  global a               # How you access global variable in function\n",
        "\n",
        "  b = a + 5\n",
        "  a = b\n",
        "\n",
        "change_value_of_a()\n",
        "print(a)"
      ],
      "metadata": {
        "colab": {
          "base_uri": "https://localhost:8080/"
        },
        "id": "LC9pxZ9Uqvvr",
        "outputId": "bf9f3155-5607-4e17-8358-420092f7f69e"
      },
      "execution_count": null,
      "outputs": [
        {
          "output_type": "stream",
          "name": "stdout",
          "text": [
            "15\n"
          ]
        }
      ]
    },
    {
      "cell_type": "markdown",
      "source": [
        "# **Constructor Overriding**\n"
      ],
      "metadata": {
        "id": "d6E2oSNCP2B7"
      }
    },
    {
      "cell_type": "code",
      "source": [
        "class Vehicle:\n",
        "    def __init__(self, name):\n",
        "        self.name = name\n",
        "        print(f\"Vehicle: {self.name}\")\n",
        "        print(\"Vehicle Constructor\")\n",
        "\n",
        "\n",
        "class Car(Vehicle):\n",
        "    def __init__(self, name, model):\n",
        "        super().__init__(name)              # Constructor Overriding\n",
        "        self.model = model\n",
        "\n",
        "        print(f\"\\nCar: {self.name} {self.model}\")\n",
        "        print(\"Car Constructor\")\n",
        "\n",
        "\n",
        "\n",
        "\n",
        "car = Car(\"Toyota\", \"Camry\")      # This call both constructor\n"
      ],
      "metadata": {
        "id": "ynawhvvmrFQx",
        "colab": {
          "base_uri": "https://localhost:8080/"
        },
        "outputId": "4597702d-a69a-423c-ff7f-3ce6d13c3304"
      },
      "execution_count": null,
      "outputs": [
        {
          "output_type": "stream",
          "name": "stdout",
          "text": [
            "Vehicle: Toyota\n",
            "Vehicle Constructor\n",
            "\n",
            "Car: Toyota Camry\n",
            "Car Constructor\n"
          ]
        }
      ]
    },
    {
      "cell_type": "markdown",
      "source": [
        "# **Instance Method**   ( self )\n",
        "\n",
        "* ( require self )\n",
        "* must need to create instance/object\n",
        "<br> <br>\n",
        "\n",
        "A Instance method in Python is a method that is bound to the instance or object of the class.\n",
        "\n"
      ],
      "metadata": {
        "id": "0O40NIq8epoR"
      }
    },
    {
      "cell_type": "code",
      "source": [
        "class Course:\n",
        "\n",
        "  def __init__(self, name) -> None:\n",
        "      self.name = name                                          # Instance Variable\n",
        "\n",
        "  def get_course_data(self):                                    # Instance Method\n",
        "    return \"course name : \" + self.name\n",
        "\n",
        "\n",
        "##############################################################################\n",
        "\n",
        "course_1 = Course(\"OOP\")\n",
        "course_2 = Course(\"DS\")\n",
        "\n",
        "print(course_1.get_course_data())\n",
        "print(course_2.get_course_data())\n"
      ],
      "metadata": {
        "colab": {
          "base_uri": "https://localhost:8080/"
        },
        "id": "AL90RjhCXsnC",
        "outputId": "3fdc5bcf-e941-4d9d-e707-cd48b23f3e5a"
      },
      "execution_count": null,
      "outputs": [
        {
          "output_type": "stream",
          "name": "stdout",
          "text": [
            "course name : OOP\n",
            "course name : DS\n"
          ]
        }
      ]
    },
    {
      "cell_type": "markdown",
      "source": [
        "# **Class Method**   ( cls )\n",
        "\n",
        "* ( require cls )\n",
        "* no need to create instance/object\n",
        "<br> <br>\n",
        "\n",
        "\n",
        "A class method in Python is a method that is bound to the class rather than an instance / object of the class. It can access and modify class state that applies across all instances/objects of the class. To define a class method, you use the @classmethod decorator and the first parameter of the method should be cls, which refers to the class itself (similar to how self refers to the instance in regular methods).\n",
        "<br> <br>\n",
        "#### **Key Points:**\n",
        "* Class methods can be called on the class itself or on instances.\n",
        "* They are used when you need to work with class-level data, like modifying class variables.\n",
        "* They do not require an instance of the class to be created.\n",
        "\n",
        "\n"
      ],
      "metadata": {
        "id": "uhaQl3QY3jzx"
      }
    },
    {
      "cell_type": "code",
      "source": [
        "class Course:\n",
        "  course_credit_hour = 3                                         # Class Variable\n",
        "\n",
        "  def __init__(self, name) -> None:\n",
        "      self.name = name                                          # Instance Variable\n",
        "\n",
        "  def get_course_data(self):                                    # Instance Method\n",
        "    return \"course name : \" + self.name + \"\\tcourse credit-hour : \" + str(self.course_credit_hour)\n",
        "\n",
        "  @classmethod\n",
        "  def set_course_credit_hour(cls, credit_hour):     # Class Method\n",
        "    cls.course_credit_hour = credit_hour\n",
        "\n",
        "  @classmethod\n",
        "  def get_course_credit_hour(cls):                  # Class Method\n",
        "    return cls.course_credit_hour\n",
        "\n",
        "\n",
        "\n",
        "##############################################################################\n",
        "\n",
        "course_1 = Course(\"OOP\")\n",
        "course_2 = Course(\"DS\")\n",
        "\n",
        "print(course_1.get_course_data())\n",
        "print(course_2.get_course_data())\n",
        "\n",
        "print(\"\\n\\n After calling Static Method and change the Static variable credit-hour \\n\")\n",
        "\n",
        "Course.set_course_credit_hour(1)                # Calling Static Method   ( it applies all objects of the class , previous objects or incoming objects )\n",
        "\n",
        "\n",
        "print(course_1.get_course_data())\n",
        "print(course_2.get_course_data())\n",
        "\n",
        "print(Course.get_course_credit_hour())\n"
      ],
      "metadata": {
        "id": "grvNPhXggG5x"
      },
      "execution_count": null,
      "outputs": []
    },
    {
      "cell_type": "markdown",
      "source": [
        "# **Static Method**    \n",
        "\n",
        "* ( not require self or cls )\n",
        "* no need to create instance/object\n",
        "\n",
        "<br>\n",
        "\n",
        "A static method in Python is a method that belongs to the class but does not have access to the instance (self) or the class (cls). It behaves like a regular function but belongs to the class's namespace. Static methods are defined using the @staticmethod decorator and do not require any specific first parameter (like self or cls).\n",
        "<br><br>\n",
        "Static methods are used when you want a method that doesn't need to access or modify the class or instance but still logically belongs within the class.\n",
        "<br><br>\n",
        "\n",
        "### **Key Points:**\n",
        "\n",
        "* No self or cls parameters: Static methods cannot modify object state (instance variables) or class state (class variables).\n",
        "* They are used when some functionality relates to the class but doesn't depend on instance-specific or class-specific data."
      ],
      "metadata": {
        "id": "8wNcRxLG4KW0"
      }
    },
    {
      "cell_type": "code",
      "source": [
        "import time\n",
        "\n",
        "class Employee:\n",
        "    def __init__(self, name, age, salary):\n",
        "        self.name = name\n",
        "        self.age = age\n",
        "        self.salary = salary\n",
        "\n",
        "    # static method\n",
        "    @staticmethod\n",
        "    def calculate_salary():\n",
        "      print(\"This is a static method\")\n",
        "      print(\"All Employee Salary is calculating\")\n",
        "      time.sleep(2)\n",
        "      print(\"Salary Calculated\")\n",
        "\n",
        "\n",
        "Employee.calculate_salary()\n"
      ],
      "metadata": {
        "colab": {
          "base_uri": "https://localhost:8080/"
        },
        "id": "D5SlN4xII5f-",
        "outputId": "8ece4906-4303-420d-d570-16604a48c3a2"
      },
      "execution_count": null,
      "outputs": [
        {
          "output_type": "stream",
          "name": "stdout",
          "text": [
            "This is a static method\n",
            "All Employee Salary is calculating\n",
            "Salary Calculated\n"
          ]
        }
      ]
    },
    {
      "cell_type": "code",
      "source": [
        "class MathOperations:\n",
        "    @staticmethod\n",
        "    def add(x, y):\n",
        "        return x + y\n",
        "\n",
        "    @staticmethod\n",
        "    def multiply(x, y):\n",
        "        return x * y\n",
        "\n",
        "# No need to create instance\n",
        "\n",
        "# Calling static methods\n",
        "print(MathOperations.add(5, 3))  # Output: 8\n",
        "print(MathOperations.multiply(4, 6))  # Output: 24\n"
      ],
      "metadata": {
        "colab": {
          "base_uri": "https://localhost:8080/"
        },
        "id": "l_wJyLsB4n_g",
        "outputId": "efe63ad3-f187-4b71-d819-aaf199fe56e2"
      },
      "execution_count": null,
      "outputs": [
        {
          "output_type": "stream",
          "name": "stdout",
          "text": [
            "8\n",
            "24\n"
          ]
        }
      ]
    },
    {
      "cell_type": "markdown",
      "source": [
        "# **Access Modifier**\n",
        "\n",
        "\n",
        "In Python, access modifiers determine the accessibility of a class's attributes and methods from outside the class. Unlike some other languages like Java or C++, Python does not have strict access modifiers such as public, private, and protected. Instead, it uses naming conventions to indicate the intended access level of attributes or methods.\n",
        "\n",
        "\n",
        "\n",
        "\n",
        "1.   #### **Public (no underscores):**\n",
        "\n",
        "      *   Accessible from anywhere (inside and outside the class).\n",
        "\n",
        "\n",
        "\n",
        "2.   #### **Protected (_single underscore):**\n",
        "\n",
        "      *   Should not be accessed directly, but can still be accessed and modified from outside the class (used by convention to indicate that it is intended to be used within the class and its subclasses).\n",
        "\n",
        "      * By convention, protected members are intended to be accessed only within the class and its subclasses. However, Python does not strictly enforce this rule, and you can still access protected members from outside the class. The single underscore (_) is a convention to indicate that it's intended to be protected, but not a rule.\n",
        "\n",
        "      * **Intent:** Should only be accessed within the class and its subclasses, but can still be accessed from outside the class (through an instance).\n",
        "      * **Convention:** The single underscore is a convention in Python to indicate that this attribute or method is intended to be used internally by the class and its subclasses. However, this is not enforced by Python; it's more of a \"gentleman's agreement.\"\n",
        "      * **Access:** Can be accessed inside the class, in subclasses (inherited class), and outside the class via an object, but it's discouraged to access it directly from outside the class.\n",
        "\n",
        "3.   #### **Private (__double underscore):**\n",
        "\n",
        "      *   Private members are meant to be hidden from outside the class. Python achieves this by name mangling: it changes the name of the private member internally to include the class name as a prefix (e.g., _Example__private_attr). This prevents accidental access but still allows access through methods inside the class or through name mangling.\n",
        "\n",
        "      * **Intent:** Should only be accessed within the class. This is more strictly enforced by Python using a mechanism called name mangling.\n",
        "      \n",
        "      * **Enforcement:** Python changes the name of the private variable internally to make it harder to access from outside the class. However, it is still technically accessible from outside the class using name mangling (e.g., _ClassName__private_variable).\n",
        "\n",
        "      * **Access:** Can be accessed inside the class only, but using name mangling, it can be accessed from outside the class as well. Subclasses cannot access private variables directly.\n",
        "\n",
        "<br><br>\n",
        "####  **For Basic understanding**\n",
        "<br>\n",
        "\n",
        "## **Protected:**\n",
        "\n",
        "* **Inside the Class:** Yes, accessible.\n",
        "* **Inherited Class (Subclasses):** Yes, accessible.\n",
        "* **Object (Outside Class):** Yes, accessible, but not recommended.\n",
        "<br>\n",
        "\n",
        "## **Private:**\n",
        "\n",
        "* **Inside the Class:** Yes, accessible.\n",
        "* **Inherited Class (Subclasses):** No, not accessible directly (but accessible via a public method if exposed).\n",
        "* **Object (Outside Class):** No, not accessible directly (but accessible via name mangling, e.g., _ClassName__variable).\n",
        "      \n",
        "\n"
      ],
      "metadata": {
        "id": "3fXpZpEU9thV"
      }
    },
    {
      "cell_type": "code",
      "source": [
        "\n",
        "\"\"\"\n",
        "Protected Members:  ( _ )\n",
        "  -  Should only be accessed within the class and its subclasses, but can still be accessed from outside the class (through an instance).\n",
        "\n",
        "Private Members: ( __ )\n",
        "  -  Should only be accessed within the class. This is more strictly enforced by Python using a mechanism called name mangling.\n",
        "\"\"\"\n",
        "\n",
        "\n",
        "class Student:\n",
        "\n",
        "  _grade= \"A\"                            # protected      (only in class or inherited class  == > not in object but accessable in obj)\n",
        "  __fees= 20000                          # private        (only in class)\n",
        "\n",
        "  def __init__(self, name, age):\n",
        "    self.name = name                    # public variable\n",
        "    self.age = age\n",
        "\n",
        "\n",
        "class Teacher(Student):\n",
        "  # grade = Student.grade                 # protected can't access like that\n",
        "  grade = Student._grade                  # protected access like that    +++++++++++  YOU CAN ACCESS, NO PROBLEM RESTRICTION TO ACCESS IN SUB-CLASS ++++++++\n",
        "\n",
        "  print(\"Student class protected grade Access through inherited class : ____\", grade)\n",
        "\n",
        "  # fees = Student.__fees                # private can't access like that\n",
        "  # fees = Student.__fees                  # private can't access like that\n",
        "  fees = Student._Student__fees          # private ONLY access like that         ++++++ NOT RECOMMENDED +++++++\n",
        "\n",
        "  print(\"Student class private fees Access through inherited class : ____\", fees)\n",
        "\n",
        "\n",
        "\n",
        "########################### OUTSIDE ###########################\n",
        "\n",
        "\n",
        "obj= Student(\"hussain\", 21)\n",
        "print(obj.name)\n",
        "print(obj.age)\n",
        "\n",
        "print(obj._grade)                   # protected                                ++++++ NOT RECOMMENDED +++++++\n",
        "# print(obj.__fees)                 # private not accesable like that\n",
        "print(obj._Student__fees)           # private                                  ++++++ STRICTLY NOT RECOMMENDED +++++++"
      ],
      "metadata": {
        "colab": {
          "base_uri": "https://localhost:8080/"
        },
        "id": "l2e3-bCo5e8T",
        "outputId": "d4488c83-23c7-4b32-c214-24bbaf52dcf4"
      },
      "execution_count": null,
      "outputs": [
        {
          "output_type": "stream",
          "name": "stdout",
          "text": [
            "Student class protected grade Access through inherited class : ____ A\n",
            "Student class private fees Access through inherited class : ____ 20000\n",
            "hussain\n",
            "21\n",
            "A\n",
            "20000\n"
          ]
        }
      ]
    },
    {
      "cell_type": "code",
      "source": [
        "class Parent:\n",
        "    def __init__(self):\n",
        "        self.public_var = \"I am public\"\n",
        "        self._protected_var = \"I am protected\"\n",
        "        self.__private_var = \"I am private\"\n",
        "\n",
        "    def get_private_var(self):\n",
        "        return self.__private_var\n",
        "\n",
        "class Child(Parent):\n",
        "    def __init__(self):\n",
        "        super().__init__()\n",
        "        print(self.public_var)  # Accessible\n",
        "        print(self._protected_var)  # Accessible (inherited class)\n",
        "        # print(self.__private_var)  # Not accessible (will raise an error)\n",
        "\n",
        "parent_obj = Parent()\n",
        "print(parent_obj.public_var)  # Accessible\n",
        "print(parent_obj._protected_var)  # Accessible (not recommended)\n",
        "# print(parent_obj.__private_var)  # Not accessible (will raise an error)\n",
        "\n",
        "# Access private variable via name mangling\n",
        "print(parent_obj._Parent__private_var)  # Accessible via name mangling\n",
        "\n",
        "# Access private variable via method\n",
        "print(parent_obj.get_private_var())  # Accessible via a method\n"
      ],
      "metadata": {
        "colab": {
          "base_uri": "https://localhost:8080/"
        },
        "id": "oD7k3BBT87P1",
        "outputId": "71ffd3fe-8a31-4c12-ee86-3f65557fbb91"
      },
      "execution_count": null,
      "outputs": [
        {
          "output_type": "stream",
          "name": "stdout",
          "text": [
            "I am public\n",
            "I am protected\n",
            "I am private\n",
            "I am private\n"
          ]
        }
      ]
    },
    {
      "cell_type": "markdown",
      "source": [
        "# **Dunder Method or Magic Method**"
      ],
      "metadata": {
        "id": "y3ENoqfQKBkR"
      }
    },
    {
      "cell_type": "code",
      "source": [
        "class Employee:\n",
        "    def __init__(self, name, salary):\n",
        "        self.name = name\n",
        "        self.salary = salary\n",
        "\n",
        "    def __str__(self):\n",
        "        return f\"Employee: {self.name}, Salary: {self.salary}\"\n",
        "\n",
        "emp= Employee(\"hussain\", 20000)\n",
        "print(emp)"
      ],
      "metadata": {
        "colab": {
          "base_uri": "https://localhost:8080/"
        },
        "id": "UNyd2TUxE_JR",
        "outputId": "39b9f384-0402-45cc-d193-4b0a0f80cacb"
      },
      "execution_count": null,
      "outputs": [
        {
          "output_type": "stream",
          "name": "stdout",
          "text": [
            "Employee: hussain, Salary: 20000\n"
          ]
        }
      ]
    },
    {
      "cell_type": "markdown",
      "source": [
        "# **Threading**\n"
      ],
      "metadata": {
        "id": "D-KZsGA-nQpO"
      }
    },
    {
      "cell_type": "code",
      "source": [
        "\"\"\"\n",
        "NORMAL USING THIS FUNCTION\n",
        "\"\"\"\n",
        "import time\n",
        "import threading\n",
        "\n",
        "def do_something():\n",
        "    print(f\"\\n\\n\")\n",
        "    print(\"Doing SOmething\")\n",
        "    time.sleep(1)\n",
        "    print(\"Done Something\")\n",
        "\n",
        "start = time.perf_counter()\n",
        "do_something()\n",
        "do_something()\n",
        "do_something()\n",
        "finish = time.perf_counter()\n",
        "\n",
        "print(f'\\n\\n ********** Finished in {round(finish-start, 2)} second(s) **********')\n"
      ],
      "metadata": {
        "colab": {
          "base_uri": "https://localhost:8080/"
        },
        "id": "XFY0SjqYUBUO",
        "outputId": "fdcb7122-6c5f-41e9-e100-f2c70a90508c"
      },
      "execution_count": null,
      "outputs": [
        {
          "output_type": "stream",
          "name": "stdout",
          "text": [
            "\n",
            "\n",
            "\n",
            "Doing SOmething\n",
            "Done Something\n",
            "\n",
            "\n",
            "\n",
            "Doing SOmething\n",
            "Done Something\n",
            "\n",
            "\n",
            "\n",
            "Doing SOmething\n",
            "Done Something\n",
            "\n",
            "\n",
            " ********** Finished in 3.01 second(s) **********\n"
          ]
        }
      ]
    },
    {
      "cell_type": "code",
      "source": [
        "\"\"\"\n",
        "Using Threadig\n",
        "\"\"\"\n",
        "import threading\n",
        "import time\n",
        "\n",
        "\n",
        "def do_something():\n",
        "    print(f\"\\n\\nThread name is : ______ {threading.current_thread().name} and ID is {threading.get_ident()}\")\n",
        "    print(\"Doing SOmething\")\n",
        "    time.sleep(1)\n",
        "    print(\"Done Something\")\n",
        "\n",
        "\n",
        "\n",
        "start = time.perf_counter()\n",
        "\n",
        "print(f\"Thread name is : ______ {threading.current_thread().name} and ID is {threading.get_ident()}\")\n",
        "\n",
        "threading.current_thread().name = \"Hussain's Main Thread\"\n",
        "\n",
        "print(f\"Thread new name is : ______ {threading.current_thread().name} and ID is {threading.get_ident()}\")\n",
        "\n",
        "t1 = threading.Thread(target=do_something)\n",
        "t2 = threading.Thread(target=do_something)\n",
        "t3 = threading.Thread(target=do_something)\n",
        "\n",
        "t1.start()\n",
        "t2.start()\n",
        "t3.start()\n",
        "\n",
        "t1.join()\n",
        "t2.join()\n",
        "t3.join()\n",
        "\n",
        "finish = time.perf_counter()\n",
        "\n",
        "print(f'\\n\\n ********** Finished in {round(finish-start, 2)} second(s) **********')"
      ],
      "metadata": {
        "colab": {
          "base_uri": "https://localhost:8080/"
        },
        "id": "RhChf6ZXWG_S",
        "outputId": "3e1d685b-34d6-4bf1-95b6-1d904e98e249"
      },
      "execution_count": null,
      "outputs": [
        {
          "output_type": "stream",
          "name": "stdout",
          "text": [
            "Thread name is : ______ Hussain's Main Thread and ID is 140198308311040\n",
            "Thread new name is : ______ Hussain's Main Thread and ID is 140198308311040\n",
            "\n",
            "\n",
            "Thread name is : ______ Thread-13 (do_something) and ID is 140197194888768\n",
            "Doing SOmething\n",
            "\n",
            "\n",
            "Thread name is : ______ Thread-14 (do_something) and ID is 140197731759680\n",
            "Doing SOmething\n",
            "\n",
            "\n",
            "Thread name is : ______ Thread-15 (do_something) and ID is 140197681403456\n",
            "Doing SOmething\n",
            "Done Something\n",
            "Done Something\n",
            "Done Something\n",
            "\n",
            "\n",
            " ********** Finished in 1.01 second(s) **********\n"
          ]
        }
      ]
    },
    {
      "cell_type": "code",
      "source": [
        "\"\"\"\n",
        "Passing Arguments to Threading\n",
        "\"\"\"\n",
        "import time\n",
        "import threading\n",
        "\n",
        "def do_something(person_name, age, gender):\n",
        "    time.sleep(2)\n",
        "    print(f\"\\n\\nThread name is : ______ {threading.current_thread().name} and ID is {threading.get_ident()}\")\n",
        "    print(f\"Doing SOmething for person {person_name}\")\n",
        "    time.sleep(1)\n",
        "    print(\"Done Something\")\n",
        "\n",
        "start = time.perf_counter()\n",
        "\n",
        "t1= threading.Thread(target=do_something, args=['Asad', 12, \"Male\"])\n",
        "t2= threading.Thread(target=do_something, args=['Sana', 22, \"Female\"])\n",
        "t3= threading.Thread(target=do_something, args=['Ahmed', 29, \"Male\"])\n",
        "\n",
        "t1.start()\n",
        "t2.start()\n",
        "t3.start()\n",
        "\n",
        "t1.join()\n",
        "t2.join()\n",
        "t3.join()\n",
        "\n",
        "finish = time.perf_counter()\n",
        "\n",
        "print(f'\\n\\n ********** Finished in {round(finish-start, 2)} second(s) **********')\n"
      ],
      "metadata": {
        "id": "52nnwVtcXA40",
        "colab": {
          "base_uri": "https://localhost:8080/"
        },
        "outputId": "ea344b23-1553-40c1-cd99-8c98ee2c8be7"
      },
      "execution_count": null,
      "outputs": [
        {
          "output_type": "stream",
          "name": "stdout",
          "text": [
            "\n",
            "\n",
            "Thread name is : ______ Thread-89 (do_something) and ID is 140629738313280\n",
            "Doing SOmething for person Asad\n",
            "\n",
            "\n",
            "Thread name is : ______ Thread-90 (do_something) and ID is 140629604030016\n",
            "Doing SOmething for person Sana\n",
            "\n",
            "\n",
            "Thread name is : ______ Thread-91 (do_something) and ID is 140629612422720\n",
            "Doing SOmething for person Ahmed\n",
            "Done Something\n",
            "Done Something\n",
            "Done Something\n",
            "\n",
            "\n",
            " ********** Finished in 3.01 second(s) **********\n"
          ]
        }
      ]
    },
    {
      "cell_type": "code",
      "source": [
        "\"\"\"\n",
        "Threading using list\n",
        "\"\"\"\n",
        "import time\n",
        "import threading\n",
        "\n",
        "def do_something(person_name):\n",
        "    time.sleep(2)\n",
        "    print(f\"\\n\\nThread name is : ______ {threading.current_thread().name} and ID is {threading.get_ident()}\")\n",
        "    print(f\"Doing SOmething for person {person_name}\")\n",
        "    time.sleep(1)\n",
        "    print(\"Done Something\")\n",
        "\n",
        "\n",
        "start = time.perf_counter()\n",
        "\n",
        "\n",
        "names= [\"Hussain\", \"Ali\", \"Hassan\", \"Asad\", \"Shakir\"]\n",
        "\n",
        "thread= []\n",
        "\n",
        "for name in names:\n",
        "  t= threading.Thread(target=do_something, args=[name])\n",
        "  t.start()\n",
        "  thread.append(t)\n",
        "\n",
        "for t in thread:\n",
        "  t.join()\n",
        "\n",
        "\n",
        "finish = time.perf_counter()\n",
        "\n",
        "print(f'\\n\\n ********** Finished in {round(finish-start, 2)} second(s) **********')"
      ],
      "metadata": {
        "id": "1mZNjRm88tIE",
        "colab": {
          "base_uri": "https://localhost:8080/"
        },
        "outputId": "374a3e0b-9d5b-4bd5-ba30-10f307e8caf3"
      },
      "execution_count": null,
      "outputs": [
        {
          "output_type": "stream",
          "name": "stdout",
          "text": [
            "\n",
            "\n",
            "Thread name is : ______ Thread-143 (do_something) and ID is 140629696349760\n",
            "\n",
            "Thread name is : ______ Thread-142 (do_something) and ID is 140629704742464\n",
            "Doing SOmething for person Hussain\n",
            "\n",
            "\n",
            "Thread name is : ______ Thread-146 (do_something) and ID is 140630533576256\n",
            "Doing SOmething for person Shakir\n",
            "\n",
            "Doing SOmething for person Ali\n",
            "\n",
            "\n",
            "Thread name is : ______ Thread-145 (do_something) and ID is 140629738313280\n",
            "Doing SOmething for person Asad\n",
            "\n",
            "\n",
            "Thread name is : ______ Thread-144 (do_something) and ID is 140629721527872\n",
            "Doing SOmething for person Hassan\n",
            "Done SomethingDone Something\n",
            "\n",
            "Done SomethingDone Something\n",
            "\n",
            "Done Something\n",
            "\n",
            "\n",
            " ********** Finished in 3.01 second(s) **********\n"
          ]
        }
      ]
    },
    {
      "cell_type": "code",
      "source": [
        "\"\"\"\n",
        "start vs run    methods in thread\n",
        "\n",
        "START:   ( use parallel and can use join() )\n",
        "\n",
        "  - Starting the thread (runs the `run()` method in a new thread)\n",
        "  - in start u can use thread.join() for running script until the thread were execute\n",
        "  - u can't use start method multiple time with single thread\n",
        "  - It create multiple thread\n",
        "\n",
        "\n",
        "RUN:     ( complete the thread and then move next line that's why u cant use join() )\n",
        "\n",
        "  - run() is just a regular method, it can be called multiple times without any restrictions.\n",
        "  - However, calling run() directly does not achieve the goal of running the method concurrently with other threads.\n",
        "  - in run u can't use thread.join() for running script until the thread were execute\n",
        "  - becuse in run when the thread will execute completely then it go to next line of code\n",
        "  - u can use run method multiple time with single thread\n",
        "  - It use only main thread\n",
        "\"\"\"\n",
        "import time\n",
        "import threading\n",
        "\n",
        "def do_something(person_name):\n",
        "    time.sleep(2)\n",
        "    print(f\"\\n\\nThread name is : ______ {threading.current_thread().name} and ID is {threading.get_ident()}\")\n",
        "    print(f\"Doing SOmething for person {person_name}\")\n",
        "    time.sleep(1)\n",
        "    print(\"Done Something\")\n",
        "\n",
        "\n",
        "start = time.perf_counter()\n",
        "\n",
        "\n",
        "names= [\"Hussain\", \"Ali\", \"Hassan\", \"Asad\", \"Shakir\"]\n",
        "\n",
        "for name in names:\n",
        "  t= threading.Thread(target=do_something, args=[name])\n",
        "  # t.start()\n",
        "  t.run()\n",
        "\n",
        "\n",
        "finish = time.perf_counter()\n",
        "\n",
        "print(f'\\n\\n ********** Finished in {round(finish-start, 2)} second(s) **********')"
      ],
      "metadata": {
        "colab": {
          "base_uri": "https://localhost:8080/"
        },
        "id": "Brf862Gb6jl5",
        "outputId": "12f12673-37e5-4c76-ead8-40bd058f6dc0"
      },
      "execution_count": null,
      "outputs": [
        {
          "output_type": "stream",
          "name": "stdout",
          "text": [
            "\n",
            "\n",
            "Thread name is : ______ MainThread and ID is 140631236804608\n",
            "Doing SOmething for person Hussain\n",
            "Done Something\n",
            "\n",
            "\n",
            "Thread name is : ______ MainThread and ID is 140631236804608\n",
            "Doing SOmething for person Ali\n",
            "Done Something\n",
            "\n",
            "\n",
            "Thread name is : ______ MainThread and ID is 140631236804608\n",
            "Doing SOmething for person Hassan\n",
            "Done Something\n",
            "\n",
            "\n",
            "Thread name is : ______ MainThread and ID is 140631236804608\n",
            "Doing SOmething for person Asad\n",
            "Done Something\n",
            "\n",
            "\n",
            "Thread name is : ______ MainThread and ID is 140631236804608\n",
            "Doing SOmething for person Shakir\n",
            "Done Something\n",
            "\n",
            "\n",
            " ********** Finished in 15.02 second(s) **********\n"
          ]
        }
      ]
    },
    {
      "cell_type": "code",
      "source": [
        "\"\"\"\n",
        "Threading using Class\n",
        "\"\"\"\n",
        "import threading\n",
        "import time\n",
        "\n",
        "class DoSomeThing(threading.Thread):\n",
        "    def __init__(self, person_name):\n",
        "        super().__init__()\n",
        "        # threading.Thread.__init__(self)       # Its necessary\n",
        "        self.person_name = person_name\n",
        "\n",
        "        # Not use name it will distrub the thread name\n",
        "        # self.name = \"GGWP\"\n",
        "\n",
        "\n",
        "    def run(self):\n",
        "      time.sleep(2)\n",
        "      print(f\"\\n\\nThread name is : ______ {threading.current_thread().name} and ID is {threading.get_ident()}\")\n",
        "      print(f\"Doing SOmething for person {self.person_name}\")\n",
        "      time.sleep(1)\n",
        "      print(\"Done Something\")\n",
        "\n",
        "t1 = DoSomeThing(\"Hussain\")\n",
        "t2 = DoSomeThing(\"Ali\")\n",
        "t3 = DoSomeThing(\"Hassan\")\n",
        "\n",
        "t1.start()\n",
        "t2.start()\n",
        "t3.start()\n",
        "\n",
        "t1.join()\n",
        "t2.join()\n",
        "t3.join()\n",
        "\n",
        "\n",
        "# t1.run()\n",
        "# t2.run()\n",
        "# t3.run()"
      ],
      "metadata": {
        "colab": {
          "base_uri": "https://localhost:8080/"
        },
        "id": "NfCfhFYc8MlB",
        "outputId": "0474cf45-2eb2-4f28-cfe0-f29aff2848be"
      },
      "execution_count": null,
      "outputs": [
        {
          "output_type": "stream",
          "name": "stdout",
          "text": [
            "\n",
            "\n",
            "Thread name is : ______ Thread-169 and ID is 140629738313280\n",
            "Doing SOmething for person Ali\n",
            "\n",
            "\n",
            "Thread name is : ______ Thread-168 and ID is 140630533576256\n",
            "Doing SOmething for person Hussain\n",
            "\n",
            "\n",
            "Thread name is : ______ Thread-170 and ID is 140629721527872\n",
            "Doing SOmething for person Hassan\n",
            "Done Something\n",
            "Done Something\n",
            "Done Something\n"
          ]
        }
      ]
    },
    {
      "cell_type": "code",
      "source": [
        "\"\"\"\n",
        "Threading using Class\n",
        "\"\"\"\n",
        "import threading\n",
        "import time\n",
        "\n",
        "class DoSomeThing(threading.Thread):\n",
        "    def __init__(self, person_name):\n",
        "        super().__init__()\n",
        "        # threading.Thread.__init__(self)       # Its necessary\n",
        "        self.person_name = person_name\n",
        "\n",
        "        # Not use name it will distrub the thread name\n",
        "        # self.name = \"GGWP\"\n",
        "\n",
        "\n",
        "    def run(self):\n",
        "      time.sleep(2)\n",
        "      print(f\"\\n\\nThread name is : ______ {threading.current_thread().name} and ID is {threading.get_ident()}\")\n",
        "      print(f\"Doing SOmething for person {self.person_name}\")\n",
        "      time.sleep(1)\n",
        "      print(\"Done Something\")\n",
        "\n",
        "\n",
        "start = time.perf_counter()\n",
        "\n",
        "threads= []\n",
        "\n",
        "for i in range (1, 10):\n",
        "  t= DoSomeThing(i)\n",
        "  t.start()\n",
        "  threads.append(t)\n",
        "\n",
        "for t in threads:\n",
        "  t.join()\n",
        "\n",
        "\n",
        "finish = time.perf_counter()\n",
        "\n",
        "print(f'\\n\\n ********** Finished in {round(finish-start, 2)} second(s) **********')"
      ],
      "metadata": {
        "colab": {
          "base_uri": "https://localhost:8080/"
        },
        "id": "65l9BsD-MZf3",
        "outputId": "d63ca376-c958-4538-b102-a8409da7cdaa"
      },
      "execution_count": null,
      "outputs": [
        {
          "output_type": "stream",
          "name": "stdout",
          "text": [
            "\n",
            "\n",
            "Thread name is : ______ Thread-697 and ID is 140625659459136\n",
            "Doing SOmething for person 3\n",
            "\n",
            "\n",
            "Thread name is : ______ Thread-698 and ID is 140625911240256\n",
            "\n",
            "Thread name is : ______ Thread-700 and ID is 140629738313280\n",
            "\n",
            "Thread name is : ______ Thread-696 and ID is 140625676244544\n",
            "Doing SOmething for person 2\n",
            "\n",
            "Thread name is : ______ Thread-699 and ID is 140630533576256\n",
            "Doing SOmething for person 5\n",
            "\n",
            "Doing SOmething for person 6\n",
            "\n",
            "\n",
            "Thread name is : ______ Thread-695 and ID is 140625693029952\n",
            "Doing SOmething for person 1\n",
            "\n",
            "\n",
            "\n",
            "Thread name is : ______ Thread-702 and ID is 140629717333568\n",
            "Doing SOmething for person 8\n",
            "\n",
            "Doing SOmething for person 4\n",
            "\n",
            "\n",
            "Thread name is : ______ Thread-703 and ID is 140629708940864\n",
            "\n",
            "Thread name is : ______ Thread-701 and ID is 140629725726272\n",
            "Doing SOmething for person 7\n",
            "Doing SOmething for person 9\n",
            "\n",
            "Done Something\n",
            "Done Something\n",
            "Done Something\n",
            "Done SomethingDone Something\n",
            "\n",
            "Done Something\n",
            "Done Something\n",
            "Done Something\n",
            "Done Something\n",
            "\n",
            "\n",
            " ********** Finished in 3.02 second(s) **********\n"
          ]
        }
      ]
    },
    {
      "cell_type": "code",
      "source": [
        "links = [\n",
        "    \"https://encrypted-tbn0.gstatic.com/images?q=tbn:ANd9GcR2qobmewiBPpYsOv4gG_M_Suzr4TQuOLd5pKg88hCWDNh_IimbboTbadADxHLJDlnqAgA&usqp=CAU\",\n",
        "    \"https://encrypted-tbn0.gstatic.com/images?q=tbn:ANd9GcRFdKRX4E3iuqIbIpc2TpbPjJPEir-1pZOA9C5F1KsZWFqzpPnrV5e84LLAzG220I4RRvI&usqp=CAU\",\n",
        "    \"https://cdn.pixabay.com/photo/2023/11/09/19/36/zoo-8378189_640.jpg\",\n",
        "    \"https://encrypted-tbn0.gstatic.com/images?q=tbn:ANd9GcSOftxJI-vav2nJr7TvY4M05SKjQTmZ1WTHzAOtryz5HHx8QcPgTbRW_6N5xxx-eYIug0A&usqp=CAU\",\n",
        "    \"https://encrypted-tbn0.gstatic.com/images?q=tbn:ANd9GcSK-0i5sAzIXP-dqsYNFBfUMTz8fX9l-aQNIieMMG9WVW9nFD7iNkh-dMMPm1L9SAVv3CM&usqp=CAU\",\n",
        "    \"https://encrypted-tbn0.gstatic.com/images?q=tbn:ANd9GcSrykJU0RWbzCBdritTC_a9P6sk7WTgmpb0CXvCt9He0_PtR_hGiM75lOrMbuFlSMutDzM&usqp=CAU\",\n",
        "    \"https://encrypted-tbn0.gstatic.com/images?q=tbn:ANd9GcSM_0SIGxs66tC_5gLTi6ZQRvkX6lJfuQ0yUr2l2qYtoOM0R2ohDljFIhV6df_0Xf7gP8U&usqp=CAU\",\n",
        "    \"https://encrypted-tbn0.gstatic.com/images?q=tbn:ANd9GcQa3GGgxaG6g7eyep_71LFLT409jDXEKkZh3FNpHHb7TqwGGVlBd_NG-WKc59NPyfgPjYw&usqp=CAU\",\n",
        "    \"https://encrypted-tbn0.gstatic.com/images?q=tbn:ANd9GcQMaBu8aEDDghRJAMUN5tMEBu8N9148fCf1VubB_Kwu91rDggcmo-KD7HSCjE1GUktoczw&usqp=CAU\"\n",
        "]\n",
        "\n",
        "import threading\n",
        "import time\n",
        "import requests\n",
        "import os\n",
        "import uuid\n",
        "\n",
        "class DownloadImage(threading.Thread):\n",
        "  def __init__ (self, link, folder_name):\n",
        "    super().__init__()\n",
        "    self.link= link\n",
        "    self.folder_name= folder_name\n",
        "\n",
        "  @classmethod\n",
        "  def download_image(cls, link, folder_name):\n",
        "    os.makedirs(folder_name, exist_ok=True)\n",
        "    image = requests.get(link)\n",
        "    with open(f\"{folder_name}/{uuid.uuid4()}.png\", \"wb\") as f:\n",
        "      f.write(image.content)\n",
        "      f.close()\n",
        "    print(f\"Image downloaded from {link}\")\n",
        "\n",
        "  def run(self):\n",
        "    self.download_image(self.link, self.folder_name)\n",
        "    print(f\"\\n\\nThread name is : ______ {threading.current_thread().name} and ID is {threading.get_ident()}\")\n",
        "\n",
        "start = time.perf_counter()\n",
        "\n",
        "threads= []\n",
        "for images in links:\n",
        "  t= DownloadImage(images, \"Images\")\n",
        "  t.start()\n",
        "  threads.append(t)\n",
        "\n",
        "for t in threads:\n",
        "  t.join()\n",
        "\n",
        "finish = time.perf_counter()\n",
        "\n",
        "print(f'\\n\\n ********** Finished in {round(finish-start, 2)} second(s) **********')\n"
      ],
      "metadata": {
        "id": "C48uoKL1KVGL",
        "colab": {
          "base_uri": "https://localhost:8080/"
        },
        "outputId": "b47fde2a-f9b6-43e5-e4a8-53d84d9ca39c"
      },
      "execution_count": 57,
      "outputs": [
        {
          "output_type": "stream",
          "name": "stdout",
          "text": [
            "Image downloaded from https://encrypted-tbn0.gstatic.com/images?q=tbn:ANd9GcSOftxJI-vav2nJr7TvY4M05SKjQTmZ1WTHzAOtryz5HHx8QcPgTbRW_6N5xxx-eYIug0A&usqp=CAU\n",
            "\n",
            "\n",
            "Thread name is : ______ Thread-754 and ID is 140629717333568\n",
            "Image downloaded from https://encrypted-tbn0.gstatic.com/images?q=tbn:ANd9GcR2qobmewiBPpYsOv4gG_M_Suzr4TQuOLd5pKg88hCWDNh_IimbboTbadADxHLJDlnqAgA&usqp=CAU\n",
            "\n",
            "\n",
            "Thread name is : ______ Thread-751 and ID is 140629738313280\n",
            "Image downloaded from https://encrypted-tbn0.gstatic.com/images?q=tbn:ANd9GcRFdKRX4E3iuqIbIpc2TpbPjJPEir-1pZOA9C5F1KsZWFqzpPnrV5e84LLAzG220I4RRvI&usqp=CAU\n",
            "\n",
            "\n",
            "Thread name is : ______ Thread-752 and ID is 140629692155456\n",
            "Image downloaded from https://encrypted-tbn0.gstatic.com/images?q=tbn:ANd9GcSK-0i5sAzIXP-dqsYNFBfUMTz8fX9l-aQNIieMMG9WVW9nFD7iNkh-dMMPm1L9SAVv3CM&usqp=CAU\n",
            "\n",
            "\n",
            "Thread name is : ______ Thread-755 and ID is 140630533576256\n",
            "Image downloaded from https://encrypted-tbn0.gstatic.com/images?q=tbn:ANd9GcSrykJU0RWbzCBdritTC_a9P6sk7WTgmpb0CXvCt9He0_PtR_hGiM75lOrMbuFlSMutDzM&usqp=CAU\n",
            "\n",
            "\n",
            "Thread name is : ______ Thread-756 and ID is 140629725726272\n",
            "Image downloaded from https://encrypted-tbn0.gstatic.com/images?q=tbn:ANd9GcSM_0SIGxs66tC_5gLTi6ZQRvkX6lJfuQ0yUr2l2qYtoOM0R2ohDljFIhV6df_0Xf7gP8U&usqp=CAU\n",
            "\n",
            "\n",
            "Thread name is : ______ Thread-757 and ID is 140629708940864\n",
            "Image downloaded from https://encrypted-tbn0.gstatic.com/images?q=tbn:ANd9GcQa3GGgxaG6g7eyep_71LFLT409jDXEKkZh3FNpHHb7TqwGGVlBd_NG-WKc59NPyfgPjYw&usqp=CAU\n",
            "\n",
            "\n",
            "Thread name is : ______ Thread-758 and ID is 140629683762752\n",
            "Image downloaded from https://encrypted-tbn0.gstatic.com/images?q=tbn:ANd9GcQMaBu8aEDDghRJAMUN5tMEBu8N9148fCf1VubB_Kwu91rDggcmo-KD7HSCjE1GUktoczw&usqp=CAU\n",
            "\n",
            "\n",
            "Thread name is : ______ Thread-759 and ID is 140629675370048\n",
            "Image downloaded from https://cdn.pixabay.com/photo/2023/11/09/19/36/zoo-8378189_640.jpg\n",
            "\n",
            "\n",
            "Thread name is : ______ Thread-753 and ID is 140629700548160\n",
            "\n",
            "\n",
            " ********** Finished in 0.12 second(s) **********\n"
          ]
        }
      ]
    },
    {
      "cell_type": "code",
      "source": [],
      "metadata": {
        "id": "hgBgU4o_Vuz1"
      },
      "execution_count": null,
      "outputs": []
    }
  ]
}