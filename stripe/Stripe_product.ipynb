{
  "cells": [
    {
      "cell_type": "markdown",
      "metadata": {
        "id": "view-in-github",
        "colab_type": "text"
      },
      "source": [
        "<a href=\"https://colab.research.google.com/github/Mhd-Hsyn/Useable/blob/main/Stripe_product.ipynb\" target=\"_parent\"><img src=\"https://colab.research.google.com/assets/colab-badge.svg\" alt=\"Open In Colab\"/></a>"
      ]
    },
    {
      "cell_type": "code",
      "execution_count": null,
      "metadata": {
        "colab": {
          "base_uri": "https://localhost:8080/"
        },
        "id": "SuabMF22zkn4",
        "outputId": "8dab3413-28b5-4e08-8538-ba4490586683"
      },
      "outputs": [
        {
          "output_type": "stream",
          "name": "stdout",
          "text": [
            "Collecting stripe\n",
            "  Downloading stripe-9.8.0-py2.py3-none-any.whl (1.5 MB)\n",
            "\u001b[?25l     \u001b[90m━━━━━━━━━━━━━━━━━━━━━━━━━━━━━━━━━━━━━━━━\u001b[0m \u001b[32m0.0/1.5 MB\u001b[0m \u001b[31m?\u001b[0m eta \u001b[36m-:--:--\u001b[0m\r\u001b[2K     \u001b[91m━━━━━\u001b[0m\u001b[90m╺\u001b[0m\u001b[90m━━━━━━━━━━━━━━━━━━━━━━━━━━━━━━━━━━\u001b[0m \u001b[32m0.2/1.5 MB\u001b[0m \u001b[31m5.8 MB/s\u001b[0m eta \u001b[36m0:00:01\u001b[0m\r\u001b[2K     \u001b[91m━━━━━━━━━━━━━━\u001b[0m\u001b[90m╺\u001b[0m\u001b[90m━━━━━━━━━━━━━━━━━━━━━━━━━\u001b[0m \u001b[32m0.5/1.5 MB\u001b[0m \u001b[31m7.8 MB/s\u001b[0m eta \u001b[36m0:00:01\u001b[0m\r\u001b[2K     \u001b[91m━━━━━━━━━━━━━━━━━━━━━━━━━━\u001b[0m\u001b[90m╺\u001b[0m\u001b[90m━━━━━━━━━━━━━\u001b[0m \u001b[32m1.0/1.5 MB\u001b[0m \u001b[31m9.4 MB/s\u001b[0m eta \u001b[36m0:00:01\u001b[0m\r\u001b[2K     \u001b[91m━━━━━━━━━━━━━━━━━━━━━━━━━━━━━━━━━━━━━━━\u001b[0m\u001b[91m╸\u001b[0m \u001b[32m1.5/1.5 MB\u001b[0m \u001b[31m11.1 MB/s\u001b[0m eta \u001b[36m0:00:01\u001b[0m\r\u001b[2K     \u001b[90m━━━━━━━━━━━━━━━━━━━━━━━━━━━━━━━━━━━━━━━━\u001b[0m \u001b[32m1.5/1.5 MB\u001b[0m \u001b[31m9.9 MB/s\u001b[0m eta \u001b[36m0:00:00\u001b[0m\n",
            "\u001b[?25hRequirement already satisfied: requests>=2.20 in /usr/local/lib/python3.10/dist-packages (from stripe) (2.31.0)\n",
            "Requirement already satisfied: typing-extensions>=4.5.0 in /usr/local/lib/python3.10/dist-packages (from stripe) (4.11.0)\n",
            "Requirement already satisfied: charset-normalizer<4,>=2 in /usr/local/lib/python3.10/dist-packages (from requests>=2.20->stripe) (3.3.2)\n",
            "Requirement already satisfied: idna<4,>=2.5 in /usr/local/lib/python3.10/dist-packages (from requests>=2.20->stripe) (3.7)\n",
            "Requirement already satisfied: urllib3<3,>=1.21.1 in /usr/local/lib/python3.10/dist-packages (from requests>=2.20->stripe) (2.0.7)\n",
            "Requirement already satisfied: certifi>=2017.4.17 in /usr/local/lib/python3.10/dist-packages (from requests>=2.20->stripe) (2024.2.2)\n",
            "Installing collected packages: stripe\n",
            "Successfully installed stripe-9.8.0\n"
          ]
        }
      ],
      "source": [
        "pip install stripe"
      ]
    },
    {
      "cell_type": "code",
      "execution_count": null,
      "metadata": {
        "id": "dUBzFxu1TLcK",
        "collapsed": true
      },
      "outputs": [],
      "source": [
        "import stripe\n",
        "\n",
        "stripe.api_key = \"sk_test_51ONfghKkRkMHYPS6BuX28Ji00h4wqhM3LmCoFSXnvNaQUxk0rDQRcll0asERJgMpocOPc8ft6f9auUDYaWqMHquq00b5DE0nFS\"\n"
      ]
    },
    {
      "cell_type": "code",
      "execution_count": null,
      "metadata": {
        "colab": {
          "base_uri": "https://localhost:8080/"
        },
        "id": "N0Bz2oUnTiQy",
        "outputId": "e1fbe075-d2bc-4251-f734-f8871881a01d"
      },
      "outputs": [
        {
          "output_type": "stream",
          "name": "stdout",
          "text": [
            "{\n",
            "  \"active\": true,\n",
            "  \"aggregate_usage\": null,\n",
            "  \"amount\": 8000,\n",
            "  \"amount_decimal\": \"8000\",\n",
            "  \"billing_scheme\": \"per_unit\",\n",
            "  \"created\": 1716892065,\n",
            "  \"currency\": \"usd\",\n",
            "  \"id\": \"plan_QBklykocaVJLl5\",\n",
            "  \"interval\": \"year\",\n",
            "  \"interval_count\": 1,\n",
            "  \"livemode\": false,\n",
            "  \"metadata\": {},\n",
            "  \"meter\": null,\n",
            "  \"nickname\": null,\n",
            "  \"object\": \"plan\",\n",
            "  \"product\": \"prod_QBklfN4vIyPMud\",\n",
            "  \"tiers_mode\": null,\n",
            "  \"transform_usage\": null,\n",
            "  \"trial_period_days\": null,\n",
            "  \"usage_type\": \"licensed\"\n",
            "}\n"
          ]
        }
      ],
      "source": [
        "#create a plan\n",
        "\n",
        "# plan = stripe.Plan.create(\n",
        "#   amount=8000, # Amount in cents\n",
        "#   interval='year',\n",
        "#   product={'name': ''},\n",
        "#   currency='usd',\n",
        "#   trial_period_days=7\n",
        "# )\n",
        "# plan\n",
        "\n",
        "plan = stripe.Plan.create(\n",
        "  amount=8000, # Amount in cents\n",
        "  interval='year',\n",
        "  product={'name': 'Voicefuse yearly package'},\n",
        "  currency='usd'\n",
        ")\n",
        "print(plan)"
      ]
    },
    {
      "cell_type": "code",
      "execution_count": null,
      "metadata": {
        "colab": {
          "base_uri": "https://localhost:8080/",
          "height": 391
        },
        "id": "GCZ0G4a-VTjL",
        "outputId": "b7e8c45f-330e-4f5c-b195-bc9ae42a7b7c",
        "collapsed": true
      },
      "outputs": [
        {
          "output_type": "error",
          "ename": "CardError",
          "evalue": "Request req_4yVVdTiKTedN1q: Sending credit card numbers directly to the Stripe API is generally unsafe. We suggest you use test tokens that map to the test card you are using, see https://stripe.com/docs/testing. To enable raw card data APIs in test mode, see https://support.stripe.com/questions/enabling-access-to-raw-card-data-apis.",
          "traceback": [
            "\u001b[0;31m---------------------------------------------------------------------------\u001b[0m",
            "\u001b[0;31mCardError\u001b[0m                                 Traceback (most recent call last)",
            "\u001b[0;32m<ipython-input-8-830672eafccf>\u001b[0m in \u001b[0;36m<cell line: 2>\u001b[0;34m()\u001b[0m\n\u001b[1;32m      1\u001b[0m \u001b[0;31m#save customer card detail to stripe\u001b[0m\u001b[0;34m\u001b[0m\u001b[0;34m\u001b[0m\u001b[0m\n\u001b[0;32m----> 2\u001b[0;31m token = stripe.Token.create(\n\u001b[0m\u001b[1;32m      3\u001b[0m   card={\n\u001b[1;32m      4\u001b[0m     \u001b[0;34m\"number\"\u001b[0m\u001b[0;34m:\u001b[0m \u001b[0;34m\"3056930009020004\"\u001b[0m\u001b[0;34m,\u001b[0m\u001b[0;34m\u001b[0m\u001b[0;34m\u001b[0m\u001b[0m\n\u001b[1;32m      5\u001b[0m     \u001b[0;34m\"exp_month\"\u001b[0m\u001b[0;34m:\u001b[0m \u001b[0;36m12\u001b[0m\u001b[0;34m,\u001b[0m\u001b[0;34m\u001b[0m\u001b[0;34m\u001b[0m\u001b[0m\n",
            "\u001b[0;32m/usr/local/lib/python3.10/dist-packages/stripe/_token.py\u001b[0m in \u001b[0;36mcreate\u001b[0;34m(cls, **params)\u001b[0m\n\u001b[1;32m   1121\u001b[0m         return cast(\n\u001b[1;32m   1122\u001b[0m             \u001b[0;34m\"Token\"\u001b[0m\u001b[0;34m,\u001b[0m\u001b[0;34m\u001b[0m\u001b[0;34m\u001b[0m\u001b[0m\n\u001b[0;32m-> 1123\u001b[0;31m             cls._static_request(\n\u001b[0m\u001b[1;32m   1124\u001b[0m                 \u001b[0;34m\"post\"\u001b[0m\u001b[0;34m,\u001b[0m\u001b[0;34m\u001b[0m\u001b[0;34m\u001b[0m\u001b[0m\n\u001b[1;32m   1125\u001b[0m                 \u001b[0mcls\u001b[0m\u001b[0;34m.\u001b[0m\u001b[0mclass_url\u001b[0m\u001b[0;34m(\u001b[0m\u001b[0;34m)\u001b[0m\u001b[0;34m,\u001b[0m\u001b[0;34m\u001b[0m\u001b[0;34m\u001b[0m\u001b[0m\n",
            "\u001b[0;32m/usr/local/lib/python3.10/dist-packages/stripe/_api_resource.py\u001b[0m in \u001b[0;36m_static_request\u001b[0;34m(cls, method_, url_, params, base_address, api_mode)\u001b[0m\n\u001b[1;32m    175\u001b[0m     ):\n\u001b[1;32m    176\u001b[0m         \u001b[0mrequest_options\u001b[0m\u001b[0;34m,\u001b[0m \u001b[0mrequest_params\u001b[0m \u001b[0;34m=\u001b[0m \u001b[0mextract_options_from_dict\u001b[0m\u001b[0;34m(\u001b[0m\u001b[0mparams\u001b[0m\u001b[0;34m)\u001b[0m\u001b[0;34m\u001b[0m\u001b[0;34m\u001b[0m\u001b[0m\n\u001b[0;32m--> 177\u001b[0;31m         return _APIRequestor._global_instance().request(\n\u001b[0m\u001b[1;32m    178\u001b[0m             \u001b[0mmethod_\u001b[0m\u001b[0;34m,\u001b[0m\u001b[0;34m\u001b[0m\u001b[0;34m\u001b[0m\u001b[0m\n\u001b[1;32m    179\u001b[0m             \u001b[0murl_\u001b[0m\u001b[0;34m,\u001b[0m\u001b[0;34m\u001b[0m\u001b[0;34m\u001b[0m\u001b[0m\n",
            "\u001b[0;32m/usr/local/lib/python3.10/dist-packages/stripe/_api_requestor.py\u001b[0m in \u001b[0;36mrequest\u001b[0;34m(self, method, url, params, options, base_address, api_mode, usage)\u001b[0m\n\u001b[1;32m    194\u001b[0m             \u001b[0musage\u001b[0m\u001b[0;34m=\u001b[0m\u001b[0musage\u001b[0m\u001b[0;34m,\u001b[0m\u001b[0;34m\u001b[0m\u001b[0;34m\u001b[0m\u001b[0m\n\u001b[1;32m    195\u001b[0m         )\n\u001b[0;32m--> 196\u001b[0;31m         \u001b[0mresp\u001b[0m \u001b[0;34m=\u001b[0m \u001b[0mrequestor\u001b[0m\u001b[0;34m.\u001b[0m\u001b[0m_interpret_response\u001b[0m\u001b[0;34m(\u001b[0m\u001b[0mrbody\u001b[0m\u001b[0;34m,\u001b[0m \u001b[0mrcode\u001b[0m\u001b[0;34m,\u001b[0m \u001b[0mrheaders\u001b[0m\u001b[0;34m)\u001b[0m\u001b[0;34m\u001b[0m\u001b[0;34m\u001b[0m\u001b[0m\n\u001b[0m\u001b[1;32m    197\u001b[0m \u001b[0;34m\u001b[0m\u001b[0m\n\u001b[1;32m    198\u001b[0m         return _convert_to_stripe_object(\n",
            "\u001b[0;32m/usr/local/lib/python3.10/dist-packages/stripe/_api_requestor.py\u001b[0m in \u001b[0;36m_interpret_response\u001b[0;34m(self, rbody, rcode, rheaders)\u001b[0m\n\u001b[1;32m    730\u001b[0m             )\n\u001b[1;32m    731\u001b[0m         \u001b[0;32mif\u001b[0m \u001b[0mself\u001b[0m\u001b[0;34m.\u001b[0m\u001b[0m_should_handle_code_as_error\u001b[0m\u001b[0;34m(\u001b[0m\u001b[0mrcode\u001b[0m\u001b[0;34m)\u001b[0m\u001b[0;34m:\u001b[0m\u001b[0;34m\u001b[0m\u001b[0;34m\u001b[0m\u001b[0m\n\u001b[0;32m--> 732\u001b[0;31m             \u001b[0mself\u001b[0m\u001b[0;34m.\u001b[0m\u001b[0mhandle_error_response\u001b[0m\u001b[0;34m(\u001b[0m\u001b[0mrbody\u001b[0m\u001b[0;34m,\u001b[0m \u001b[0mrcode\u001b[0m\u001b[0;34m,\u001b[0m \u001b[0mresp\u001b[0m\u001b[0;34m.\u001b[0m\u001b[0mdata\u001b[0m\u001b[0;34m,\u001b[0m \u001b[0mrheaders\u001b[0m\u001b[0;34m)\u001b[0m\u001b[0;34m\u001b[0m\u001b[0;34m\u001b[0m\u001b[0m\n\u001b[0m\u001b[1;32m    733\u001b[0m         \u001b[0;32mreturn\u001b[0m \u001b[0mresp\u001b[0m\u001b[0;34m\u001b[0m\u001b[0;34m\u001b[0m\u001b[0m\n\u001b[1;32m    734\u001b[0m \u001b[0;34m\u001b[0m\u001b[0m\n",
            "\u001b[0;32m/usr/local/lib/python3.10/dist-packages/stripe/_api_requestor.py\u001b[0m in \u001b[0;36mhandle_error_response\u001b[0;34m(self, rbody, rcode, resp, rheaders)\u001b[0m\n\u001b[1;32m    319\u001b[0m             )\n\u001b[1;32m    320\u001b[0m \u001b[0;34m\u001b[0m\u001b[0m\n\u001b[0;32m--> 321\u001b[0;31m         \u001b[0;32mraise\u001b[0m \u001b[0merr\u001b[0m\u001b[0;34m\u001b[0m\u001b[0;34m\u001b[0m\u001b[0m\n\u001b[0m\u001b[1;32m    322\u001b[0m \u001b[0;34m\u001b[0m\u001b[0m\n\u001b[1;32m    323\u001b[0m     \u001b[0;32mdef\u001b[0m \u001b[0mspecific_api_error\u001b[0m\u001b[0;34m(\u001b[0m\u001b[0mself\u001b[0m\u001b[0;34m,\u001b[0m \u001b[0mrbody\u001b[0m\u001b[0;34m,\u001b[0m \u001b[0mrcode\u001b[0m\u001b[0;34m,\u001b[0m \u001b[0mresp\u001b[0m\u001b[0;34m,\u001b[0m \u001b[0mrheaders\u001b[0m\u001b[0;34m,\u001b[0m \u001b[0merror_data\u001b[0m\u001b[0;34m)\u001b[0m\u001b[0;34m:\u001b[0m\u001b[0;34m\u001b[0m\u001b[0;34m\u001b[0m\u001b[0m\n",
            "\u001b[0;31mCardError\u001b[0m: Request req_4yVVdTiKTedN1q: Sending credit card numbers directly to the Stripe API is generally unsafe. We suggest you use test tokens that map to the test card you are using, see https://stripe.com/docs/testing. To enable raw card data APIs in test mode, see https://support.stripe.com/questions/enabling-access-to-raw-card-data-apis."
          ]
        }
      ],
      "source": [
        "#save customer card detail to stripe\n",
        "token = stripe.Token.create(\n",
        "  card={\n",
        "    \"number\": \"3056930009020004\",\n",
        "    \"exp_month\": 12,\n",
        "    \"exp_year\": 2025,\n",
        "    \"cvc\": \"123\",\n",
        "  },\n",
        ")\n",
        "\n",
        "token"
      ]
    },
    {
      "cell_type": "code",
      "execution_count": null,
      "metadata": {
        "colab": {
          "base_uri": "https://localhost:8080/",
          "height": 35
        },
        "id": "eCHkqI7wTsW9",
        "outputId": "7e936308-3831-49d7-d1ef-90c81aa9377f"
      },
      "outputs": [
        {
          "output_type": "execute_result",
          "data": {
            "text/plain": [
              "'cus_QBkmw5wCChjxSI'"
            ],
            "application/vnd.google.colaboratory.intrinsic+json": {
              "type": "string"
            }
          },
          "metadata": {},
          "execution_count": 14
        }
      ],
      "source": [
        "#create a new customer with a card details\n",
        "# customer = stripe.Customer.create(\n",
        "#     name = \"shakeeb anwar\",\n",
        "#     email='customer091@example.com',\n",
        "#     source=token.id  # Payment source token\n",
        "# )\n",
        "\n",
        "customer = stripe.Customer.create(\n",
        "    name = \"adil khan\",\n",
        "    email='adil@example.com'\n",
        ")\n",
        "customer.id"
      ]
    },
    {
      "cell_type": "code",
      "execution_count": null,
      "metadata": {
        "colab": {
          "base_uri": "https://localhost:8080/"
        },
        "id": "i-aj61oX7WCe",
        "outputId": "8451e50e-c644-49c2-96f9-1ab09d9c9e69"
      },
      "outputs": [
        {
          "output_type": "execute_result",
          "data": {
            "text/plain": [
              "<Customer customer id=cus_QBkFNHr7SuluyM at 0x794aa59928e0> JSON: {\n",
              "  \"address\": null,\n",
              "  \"balance\": 0,\n",
              "  \"created\": 1716890141,\n",
              "  \"currency\": null,\n",
              "  \"default_source\": null,\n",
              "  \"delinquent\": false,\n",
              "  \"description\": null,\n",
              "  \"discount\": null,\n",
              "  \"email\": \"husain@example.com\",\n",
              "  \"id\": \"cus_QBkFNHr7SuluyM\",\n",
              "  \"invoice_prefix\": \"4D5BB169\",\n",
              "  \"invoice_settings\": {\n",
              "    \"custom_fields\": null,\n",
              "    \"default_payment_method\": null,\n",
              "    \"footer\": null,\n",
              "    \"rendering_options\": null\n",
              "  },\n",
              "  \"livemode\": false,\n",
              "  \"metadata\": {},\n",
              "  \"name\": \"husain khan\",\n",
              "  \"next_invoice_sequence\": 1,\n",
              "  \"object\": \"customer\",\n",
              "  \"phone\": null,\n",
              "  \"preferred_locales\": [],\n",
              "  \"shipping\": null,\n",
              "  \"tax_exempt\": \"none\",\n",
              "  \"test_clock\": null\n",
              "}"
            ]
          },
          "metadata": {},
          "execution_count": 6
        }
      ],
      "source": [
        "# Retrieve customer's existing default source (payment method)\n",
        "customer = stripe.Customer.retrieve(customer.id)\n",
        "customer"
      ]
    },
    {
      "cell_type": "code",
      "execution_count": null,
      "metadata": {
        "colab": {
          "base_uri": "https://localhost:8080/"
        },
        "id": "zLRR2jsq78aY",
        "outputId": "058b7f56-8876-4d68-d768-cfa3306cb265"
      },
      "outputs": [
        {
          "name": "stdout",
          "output_type": "stream",
          "text": [
            "Customer's payment source updated successfully.\n"
          ]
        }
      ],
      "source": [
        "#update customer card details\n",
        "\n",
        "# Add a new payment source (card) to the customer\n",
        "new_source = stripe.Customer.create_source(\n",
        "    customer.id,\n",
        "    source=token.id\n",
        ")\n",
        "\n",
        "# Set the newly added source as the default source for the customer\n",
        "updated_customer = stripe.Customer.modify(\n",
        "    customer.id,\n",
        "    default_source=new_source.id\n",
        ")\n",
        "\n",
        "print(\"Customer's payment source updated successfully.\")"
      ]
    },
    {
      "cell_type": "code",
      "execution_count": null,
      "metadata": {
        "id": "onrKoEO_VEfy",
        "colab": {
          "base_uri": "https://localhost:8080/",
          "height": 391
        },
        "collapsed": true,
        "outputId": "b674fcf8-e497-439e-d749-9031da50614e"
      },
      "outputs": [
        {
          "output_type": "error",
          "ename": "InvalidRequestError",
          "evalue": "Request req_096k1GrNMZeMN2: This customer has no attached payment source or default payment method. Please consider adding a default payment method. For more information, visit https://stripe.com/docs/billing/subscriptions/payment-methods-setting#payment-method-priority.",
          "traceback": [
            "\u001b[0;31m---------------------------------------------------------------------------\u001b[0m",
            "\u001b[0;31mInvalidRequestError\u001b[0m                       Traceback (most recent call last)",
            "\u001b[0;32m<ipython-input-7-1704d63e6c48>\u001b[0m in \u001b[0;36m<cell line: 12>\u001b[0;34m()\u001b[0m\n\u001b[1;32m     10\u001b[0m \u001b[0;31m# )\u001b[0m\u001b[0;34m\u001b[0m\u001b[0;34m\u001b[0m\u001b[0m\n\u001b[1;32m     11\u001b[0m \u001b[0;34m\u001b[0m\u001b[0m\n\u001b[0;32m---> 12\u001b[0;31m subscription = stripe.Subscription.create(\n\u001b[0m\u001b[1;32m     13\u001b[0m     \u001b[0mcustomer\u001b[0m\u001b[0;34m=\u001b[0m\u001b[0mcustomer\u001b[0m\u001b[0;34m.\u001b[0m\u001b[0mid\u001b[0m\u001b[0;34m,\u001b[0m\u001b[0;34m\u001b[0m\u001b[0;34m\u001b[0m\u001b[0m\n\u001b[1;32m     14\u001b[0m     \u001b[0mitems\u001b[0m\u001b[0;34m=\u001b[0m\u001b[0;34m[\u001b[0m\u001b[0;34m{\u001b[0m\u001b[0;34m'plan'\u001b[0m\u001b[0;34m:\u001b[0m \u001b[0mplan\u001b[0m\u001b[0;34m.\u001b[0m\u001b[0mid\u001b[0m\u001b[0;34m}\u001b[0m\u001b[0;34m]\u001b[0m\u001b[0;34m,\u001b[0m\u001b[0;34m\u001b[0m\u001b[0;34m\u001b[0m\u001b[0m\n",
            "\u001b[0;32m/usr/local/lib/python3.10/dist-packages/stripe/_subscription.py\u001b[0m in \u001b[0;36mcreate\u001b[0;34m(cls, **params)\u001b[0m\n\u001b[1;32m   2358\u001b[0m         return cast(\n\u001b[1;32m   2359\u001b[0m             \u001b[0;34m\"Subscription\"\u001b[0m\u001b[0;34m,\u001b[0m\u001b[0;34m\u001b[0m\u001b[0;34m\u001b[0m\u001b[0m\n\u001b[0;32m-> 2360\u001b[0;31m             cls._static_request(\n\u001b[0m\u001b[1;32m   2361\u001b[0m                 \u001b[0;34m\"post\"\u001b[0m\u001b[0;34m,\u001b[0m\u001b[0;34m\u001b[0m\u001b[0;34m\u001b[0m\u001b[0m\n\u001b[1;32m   2362\u001b[0m                 \u001b[0mcls\u001b[0m\u001b[0;34m.\u001b[0m\u001b[0mclass_url\u001b[0m\u001b[0;34m(\u001b[0m\u001b[0;34m)\u001b[0m\u001b[0;34m,\u001b[0m\u001b[0;34m\u001b[0m\u001b[0;34m\u001b[0m\u001b[0m\n",
            "\u001b[0;32m/usr/local/lib/python3.10/dist-packages/stripe/_api_resource.py\u001b[0m in \u001b[0;36m_static_request\u001b[0;34m(cls, method_, url_, params, base_address, api_mode)\u001b[0m\n\u001b[1;32m    175\u001b[0m     ):\n\u001b[1;32m    176\u001b[0m         \u001b[0mrequest_options\u001b[0m\u001b[0;34m,\u001b[0m \u001b[0mrequest_params\u001b[0m \u001b[0;34m=\u001b[0m \u001b[0mextract_options_from_dict\u001b[0m\u001b[0;34m(\u001b[0m\u001b[0mparams\u001b[0m\u001b[0;34m)\u001b[0m\u001b[0;34m\u001b[0m\u001b[0;34m\u001b[0m\u001b[0m\n\u001b[0;32m--> 177\u001b[0;31m         return _APIRequestor._global_instance().request(\n\u001b[0m\u001b[1;32m    178\u001b[0m             \u001b[0mmethod_\u001b[0m\u001b[0;34m,\u001b[0m\u001b[0;34m\u001b[0m\u001b[0;34m\u001b[0m\u001b[0m\n\u001b[1;32m    179\u001b[0m             \u001b[0murl_\u001b[0m\u001b[0;34m,\u001b[0m\u001b[0;34m\u001b[0m\u001b[0;34m\u001b[0m\u001b[0m\n",
            "\u001b[0;32m/usr/local/lib/python3.10/dist-packages/stripe/_api_requestor.py\u001b[0m in \u001b[0;36mrequest\u001b[0;34m(self, method, url, params, options, base_address, api_mode, usage)\u001b[0m\n\u001b[1;32m    194\u001b[0m             \u001b[0musage\u001b[0m\u001b[0;34m=\u001b[0m\u001b[0musage\u001b[0m\u001b[0;34m,\u001b[0m\u001b[0;34m\u001b[0m\u001b[0;34m\u001b[0m\u001b[0m\n\u001b[1;32m    195\u001b[0m         )\n\u001b[0;32m--> 196\u001b[0;31m         \u001b[0mresp\u001b[0m \u001b[0;34m=\u001b[0m \u001b[0mrequestor\u001b[0m\u001b[0;34m.\u001b[0m\u001b[0m_interpret_response\u001b[0m\u001b[0;34m(\u001b[0m\u001b[0mrbody\u001b[0m\u001b[0;34m,\u001b[0m \u001b[0mrcode\u001b[0m\u001b[0;34m,\u001b[0m \u001b[0mrheaders\u001b[0m\u001b[0;34m)\u001b[0m\u001b[0;34m\u001b[0m\u001b[0;34m\u001b[0m\u001b[0m\n\u001b[0m\u001b[1;32m    197\u001b[0m \u001b[0;34m\u001b[0m\u001b[0m\n\u001b[1;32m    198\u001b[0m         return _convert_to_stripe_object(\n",
            "\u001b[0;32m/usr/local/lib/python3.10/dist-packages/stripe/_api_requestor.py\u001b[0m in \u001b[0;36m_interpret_response\u001b[0;34m(self, rbody, rcode, rheaders)\u001b[0m\n\u001b[1;32m    730\u001b[0m             )\n\u001b[1;32m    731\u001b[0m         \u001b[0;32mif\u001b[0m \u001b[0mself\u001b[0m\u001b[0;34m.\u001b[0m\u001b[0m_should_handle_code_as_error\u001b[0m\u001b[0;34m(\u001b[0m\u001b[0mrcode\u001b[0m\u001b[0;34m)\u001b[0m\u001b[0;34m:\u001b[0m\u001b[0;34m\u001b[0m\u001b[0;34m\u001b[0m\u001b[0m\n\u001b[0;32m--> 732\u001b[0;31m             \u001b[0mself\u001b[0m\u001b[0;34m.\u001b[0m\u001b[0mhandle_error_response\u001b[0m\u001b[0;34m(\u001b[0m\u001b[0mrbody\u001b[0m\u001b[0;34m,\u001b[0m \u001b[0mrcode\u001b[0m\u001b[0;34m,\u001b[0m \u001b[0mresp\u001b[0m\u001b[0;34m.\u001b[0m\u001b[0mdata\u001b[0m\u001b[0;34m,\u001b[0m \u001b[0mrheaders\u001b[0m\u001b[0;34m)\u001b[0m\u001b[0;34m\u001b[0m\u001b[0;34m\u001b[0m\u001b[0m\n\u001b[0m\u001b[1;32m    733\u001b[0m         \u001b[0;32mreturn\u001b[0m \u001b[0mresp\u001b[0m\u001b[0;34m\u001b[0m\u001b[0;34m\u001b[0m\u001b[0m\n\u001b[1;32m    734\u001b[0m \u001b[0;34m\u001b[0m\u001b[0m\n",
            "\u001b[0;32m/usr/local/lib/python3.10/dist-packages/stripe/_api_requestor.py\u001b[0m in \u001b[0;36mhandle_error_response\u001b[0;34m(self, rbody, rcode, resp, rheaders)\u001b[0m\n\u001b[1;32m    319\u001b[0m             )\n\u001b[1;32m    320\u001b[0m \u001b[0;34m\u001b[0m\u001b[0m\n\u001b[0;32m--> 321\u001b[0;31m         \u001b[0;32mraise\u001b[0m \u001b[0merr\u001b[0m\u001b[0;34m\u001b[0m\u001b[0;34m\u001b[0m\u001b[0m\n\u001b[0m\u001b[1;32m    322\u001b[0m \u001b[0;34m\u001b[0m\u001b[0m\n\u001b[1;32m    323\u001b[0m     \u001b[0;32mdef\u001b[0m \u001b[0mspecific_api_error\u001b[0m\u001b[0;34m(\u001b[0m\u001b[0mself\u001b[0m\u001b[0;34m,\u001b[0m \u001b[0mrbody\u001b[0m\u001b[0;34m,\u001b[0m \u001b[0mrcode\u001b[0m\u001b[0;34m,\u001b[0m \u001b[0mresp\u001b[0m\u001b[0;34m,\u001b[0m \u001b[0mrheaders\u001b[0m\u001b[0;34m,\u001b[0m \u001b[0merror_data\u001b[0m\u001b[0;34m)\u001b[0m\u001b[0;34m:\u001b[0m\u001b[0;34m\u001b[0m\u001b[0;34m\u001b[0m\u001b[0m\n",
            "\u001b[0;31mInvalidRequestError\u001b[0m: Request req_096k1GrNMZeMN2: This customer has no attached payment source or default payment method. Please consider adding a default payment method. For more information, visit https://stripe.com/docs/billing/subscriptions/payment-methods-setting#payment-method-priority."
          ]
        }
      ],
      "source": [
        "#subscribe a plan\n",
        "import time\n",
        "\n",
        "trial_end_timestamp = int(time.time()) + (7 * 24 * 60 * 60)\n",
        "\n",
        "# subscription = stripe.Subscription.create(\n",
        "#     customer=customer.id,\n",
        "#     items=[{'plan': \"plan_PZdIdMo0w60uBw\"}],\n",
        "#     trial_end=trial_end_timestamp\n",
        "# )\n",
        "\n",
        "subscription = stripe.Subscription.create(\n",
        "    customer=customer.id,\n",
        "    items=[{'plan': plan.id}],\n",
        ")\n"
      ]
    },
    {
      "cell_type": "code",
      "execution_count": null,
      "metadata": {
        "colab": {
          "base_uri": "https://localhost:8080/"
        },
        "id": "De4HZmAqfNhA",
        "outputId": "c5ac9046-3923-495f-9207-fd557e52d8cb"
      },
      "outputs": [
        {
          "name": "stdout",
          "output_type": "stream",
          "text": [
            "<Subscription subscription id=sub_1OkjeWJJTRudLNkabtBBNoDR at 0x7e3dccb0b380> JSON: {\n",
            "  \"application\": null,\n",
            "  \"application_fee_percent\": null,\n",
            "  \"automatic_tax\": {\n",
            "    \"enabled\": false,\n",
            "    \"liability\": null\n",
            "  },\n",
            "  \"billing_cycle_anchor\": 1708764824,\n",
            "  \"billing_cycle_anchor_config\": null,\n",
            "  \"billing_thresholds\": null,\n",
            "  \"cancel_at\": null,\n",
            "  \"cancel_at_period_end\": false,\n",
            "  \"canceled_at\": null,\n",
            "  \"cancellation_details\": {\n",
            "    \"comment\": null,\n",
            "    \"feedback\": null,\n",
            "    \"reason\": null\n",
            "  },\n",
            "  \"collection_method\": \"charge_automatically\",\n",
            "  \"created\": 1708160024,\n",
            "  \"currency\": \"usd\",\n",
            "  \"current_period_end\": 1708764824,\n",
            "  \"current_period_start\": 1708160024,\n",
            "  \"customer\": \"cus_PZtOl98jnqK7Ff\",\n",
            "  \"days_until_due\": null,\n",
            "  \"default_payment_method\": null,\n",
            "  \"default_source\": null,\n",
            "  \"default_tax_rates\": [],\n",
            "  \"description\": null,\n",
            "  \"discount\": null,\n",
            "  \"ended_at\": null,\n",
            "  \"id\": \"sub_1OkjeWJJTRudLNkabtBBNoDR\",\n",
            "  \"invoice_settings\": {\n",
            "    \"account_tax_ids\": null,\n",
            "    \"issuer\": {\n",
            "      \"type\": \"self\"\n",
            "    }\n",
            "  },\n",
            "  \"items\": {\n",
            "    \"data\": [\n",
            "      {\n",
            "        \"billing_thresholds\": null,\n",
            "        \"created\": 1708160024,\n",
            "        \"id\": \"si_PZtRePVYEPX8Aa\",\n",
            "        \"metadata\": {},\n",
            "        \"object\": \"subscription_item\",\n",
            "        \"plan\": {\n",
            "          \"active\": true,\n",
            "          \"aggregate_usage\": null,\n",
            "          \"amount\": 8000,\n",
            "          \"amount_decimal\": \"8000\",\n",
            "          \"billing_scheme\": \"per_unit\",\n",
            "          \"created\": 1708099970,\n",
            "          \"currency\": \"usd\",\n",
            "          \"id\": \"plan_PZdIdMo0w60uBw\",\n",
            "          \"interval\": \"year\",\n",
            "          \"interval_count\": 1,\n",
            "          \"livemode\": false,\n",
            "          \"metadata\": {},\n",
            "          \"nickname\": null,\n",
            "          \"object\": \"plan\",\n",
            "          \"product\": \"prod_PZdIjhokc6GeYM\",\n",
            "          \"tiers_mode\": null,\n",
            "          \"transform_usage\": null,\n",
            "          \"trial_period_days\": 7,\n",
            "          \"usage_type\": \"licensed\"\n",
            "        },\n",
            "        \"price\": {\n",
            "          \"active\": true,\n",
            "          \"billing_scheme\": \"per_unit\",\n",
            "          \"created\": 1708099970,\n",
            "          \"currency\": \"usd\",\n",
            "          \"custom_unit_amount\": null,\n",
            "          \"id\": \"plan_PZdIdMo0w60uBw\",\n",
            "          \"livemode\": false,\n",
            "          \"lookup_key\": null,\n",
            "          \"metadata\": {},\n",
            "          \"nickname\": null,\n",
            "          \"object\": \"price\",\n",
            "          \"product\": \"prod_PZdIjhokc6GeYM\",\n",
            "          \"recurring\": {\n",
            "            \"aggregate_usage\": null,\n",
            "            \"interval\": \"year\",\n",
            "            \"interval_count\": 1,\n",
            "            \"trial_period_days\": 7,\n",
            "            \"usage_type\": \"licensed\"\n",
            "          },\n",
            "          \"tax_behavior\": \"unspecified\",\n",
            "          \"tiers_mode\": null,\n",
            "          \"transform_quantity\": null,\n",
            "          \"type\": \"recurring\",\n",
            "          \"unit_amount\": 8000,\n",
            "          \"unit_amount_decimal\": \"8000\"\n",
            "        },\n",
            "        \"quantity\": 1,\n",
            "        \"subscription\": \"sub_1OkjeWJJTRudLNkabtBBNoDR\",\n",
            "        \"tax_rates\": []\n",
            "      }\n",
            "    ],\n",
            "    \"has_more\": false,\n",
            "    \"object\": \"list\",\n",
            "    \"total_count\": 1,\n",
            "    \"url\": \"/v1/subscription_items?subscription=sub_1OkjeWJJTRudLNkabtBBNoDR\"\n",
            "  },\n",
            "  \"latest_invoice\": \"in_1OkjeWJJTRudLNkaZ86TkkBR\",\n",
            "  \"livemode\": false,\n",
            "  \"metadata\": {},\n",
            "  \"next_pending_invoice_item_invoice\": null,\n",
            "  \"object\": \"subscription\",\n",
            "  \"on_behalf_of\": null,\n",
            "  \"pause_collection\": null,\n",
            "  \"payment_settings\": {\n",
            "    \"payment_method_options\": null,\n",
            "    \"payment_method_types\": null,\n",
            "    \"save_default_payment_method\": \"off\"\n",
            "  },\n",
            "  \"pending_invoice_item_interval\": null,\n",
            "  \"pending_setup_intent\": null,\n",
            "  \"pending_update\": null,\n",
            "  \"plan\": {\n",
            "    \"active\": true,\n",
            "    \"aggregate_usage\": null,\n",
            "    \"amount\": 8000,\n",
            "    \"amount_decimal\": \"8000\",\n",
            "    \"billing_scheme\": \"per_unit\",\n",
            "    \"created\": 1708099970,\n",
            "    \"currency\": \"usd\",\n",
            "    \"id\": \"plan_PZdIdMo0w60uBw\",\n",
            "    \"interval\": \"year\",\n",
            "    \"interval_count\": 1,\n",
            "    \"livemode\": false,\n",
            "    \"metadata\": {},\n",
            "    \"nickname\": null,\n",
            "    \"object\": \"plan\",\n",
            "    \"product\": \"prod_PZdIjhokc6GeYM\",\n",
            "    \"tiers_mode\": null,\n",
            "    \"transform_usage\": null,\n",
            "    \"trial_period_days\": 7,\n",
            "    \"usage_type\": \"licensed\"\n",
            "  },\n",
            "  \"quantity\": 1,\n",
            "  \"schedule\": null,\n",
            "  \"start_date\": 1708160024,\n",
            "  \"status\": \"trialing\",\n",
            "  \"test_clock\": null,\n",
            "  \"transfer_data\": null,\n",
            "  \"trial_end\": 1708764824,\n",
            "  \"trial_settings\": {\n",
            "    \"end_behavior\": {\n",
            "      \"missing_payment_method\": \"create_invoice\"\n",
            "    }\n",
            "  },\n",
            "  \"trial_start\": 1708160024\n",
            "}\n"
          ]
        }
      ],
      "source": [
        "from pprint import pprint\n",
        "pprint(subscription)\n",
        "\n",
        "#trailing\n",
        "#active\n",
        "#cancel"
      ]
    },
    {
      "cell_type": "code",
      "execution_count": null,
      "metadata": {
        "colab": {
          "base_uri": "https://localhost:8080/",
          "height": 35
        },
        "id": "qz9M8-KaqgUP",
        "outputId": "1887cdc0-58c0-44d8-fc92-e3b96fe6ba27"
      },
      "outputs": [
        {
          "data": {
            "application/vnd.google.colaboratory.intrinsic+json": {
              "type": "string"
            },
            "text/plain": [
              "'sub_1OkPygJJTRudLNkawsGuGb9S'"
            ]
          },
          "execution_count": 84,
          "metadata": {},
          "output_type": "execute_result"
        }
      ],
      "source": [
        "subscription.id"
      ]
    },
    {
      "cell_type": "code",
      "execution_count": null,
      "metadata": {
        "colab": {
          "base_uri": "https://localhost:8080/"
        },
        "id": "1H3lwoODgg0b",
        "outputId": "3c952095-0e48-4a3b-f9fd-46623761f136"
      },
      "outputs": [
        {
          "name": "stdout",
          "output_type": "stream",
          "text": [
            "subscription.status===> active\n",
            "Subscription canceled and payment refunded.\n"
          ]
        }
      ],
      "source": [
        "#cancel the subscribtion and refund the amount\n",
        "\n",
        "# Retrieve the subscription\n",
        "subscription_id = subscription.id\n",
        "subscription_instance = stripe.Subscription.retrieve(subscription_id)\n",
        "\n",
        "# Cancel the subscription\n",
        "canceled_subscription = subscription_instance.delete()\n",
        "\n",
        "# Check if the subscription was successfully canceled\n",
        "if canceled_subscription.status == \"canceled\":\n",
        "    # Retrieve the latest invoice ID\n",
        "    latest_invoice_id = canceled_subscription.latest_invoice\n",
        "\n",
        "    # Retrieve the invoice\n",
        "    invoice = stripe.Invoice.retrieve(latest_invoice_id)\n",
        "\n",
        "    # Retrieve the charge ID associated with the invoicel\n",
        "    charge_id = invoice.charge\n",
        "\n",
        "    # Refund the payment\n",
        "    print(\"subscription.status===>\",subscription.status)\n",
        "    if subscription.status != \"trialing\":\n",
        "      refund = stripe.Refund.create(\n",
        "          charge=charge_id\n",
        "      )\n",
        "\n",
        "      print(\"Subscription canceled and payment refunded.\")\n",
        "\n",
        "    else:\n",
        "      print(\"user trail priod\")\n",
        "else:\n",
        "    print(\"Failed to cancel subscription.\")"
      ]
    },
    {
      "cell_type": "code",
      "execution_count": null,
      "metadata": {
        "colab": {
          "base_uri": "https://localhost:8080/"
        },
        "id": "m1Ig78JBidOo",
        "outputId": "5ac93b5d-3cb1-4812-8944-b7120adff421"
      },
      "outputs": [
        {
          "name": "stdout",
          "output_type": "stream",
          "text": [
            "Converted Date-Time: 2024-02-17 08:53:44\n"
          ]
        }
      ],
      "source": [
        "\n",
        "import datetime\n",
        "\n",
        "timestamp = 1708160024\n",
        "# Convert UNIX timestamp to datetime object\n",
        "date_time = datetime.datetime.fromtimestamp(timestamp)\n",
        "\n",
        "# Print the datetime object\n",
        "print(\"Converted Date-Time:\", date_time)\n"
      ]
    },
    {
      "cell_type": "code",
      "execution_count": null,
      "metadata": {
        "colab": {
          "base_uri": "https://localhost:8080/"
        },
        "id": "yahb76LLp56X",
        "outputId": "305a950c-adde-4f88-df4c-44bdf6be2cc5"
      },
      "outputs": [
        {
          "data": {
            "text/plain": [
              "datetime.datetime(2024, 2, 18, 14, 38, 51, 344089)"
            ]
          },
          "execution_count": 14,
          "metadata": {},
          "output_type": "execute_result"
        }
      ],
      "source": [
        "datetime.datetime.now()"
      ]
    },
    {
      "cell_type": "code",
      "execution_count": null,
      "metadata": {
        "colab": {
          "base_uri": "https://localhost:8080/"
        },
        "id": "RgRWQgimWgv9",
        "outputId": "f3b56a68-3044-4dec-a0dc-39e6efdedd05"
      },
      "outputs": [
        {
          "output_type": "execute_result",
          "data": {
            "text/plain": [
              "<Session checkout.session id=cs_test_a1xWVppCrvd1mebBHjDYEwR342oYef2nbsvjXs72kxpVIfBBC65IFhfWk0 at 0x794aa582bc40> JSON: {\n",
              "  \"after_expiration\": null,\n",
              "  \"allow_promotion_codes\": null,\n",
              "  \"amount_subtotal\": 8000,\n",
              "  \"amount_total\": 8000,\n",
              "  \"automatic_tax\": {\n",
              "    \"enabled\": false,\n",
              "    \"liability\": null,\n",
              "    \"status\": null\n",
              "  },\n",
              "  \"billing_address_collection\": null,\n",
              "  \"cancel_url\": \"https://your-website.com/cancel\",\n",
              "  \"client_reference_id\": null,\n",
              "  \"client_secret\": null,\n",
              "  \"consent\": null,\n",
              "  \"consent_collection\": null,\n",
              "  \"created\": 1716892253,\n",
              "  \"currency\": \"usd\",\n",
              "  \"currency_conversion\": null,\n",
              "  \"custom_fields\": [],\n",
              "  \"custom_text\": {\n",
              "    \"after_submit\": null,\n",
              "    \"shipping_address\": null,\n",
              "    \"submit\": null,\n",
              "    \"terms_of_service_acceptance\": null\n",
              "  },\n",
              "  \"customer\": \"cus_QBkmw5wCChjxSI\",\n",
              "  \"customer_creation\": null,\n",
              "  \"customer_details\": {\n",
              "    \"address\": null,\n",
              "    \"email\": \"adil@example.com\",\n",
              "    \"name\": null,\n",
              "    \"phone\": null,\n",
              "    \"tax_exempt\": \"none\",\n",
              "    \"tax_ids\": null\n",
              "  },\n",
              "  \"customer_email\": null,\n",
              "  \"expires_at\": 1716978652,\n",
              "  \"id\": \"cs_test_a1xWVppCrvd1mebBHjDYEwR342oYef2nbsvjXs72kxpVIfBBC65IFhfWk0\",\n",
              "  \"invoice\": null,\n",
              "  \"invoice_creation\": null,\n",
              "  \"livemode\": false,\n",
              "  \"locale\": null,\n",
              "  \"metadata\": {},\n",
              "  \"mode\": \"subscription\",\n",
              "  \"object\": \"checkout.session\",\n",
              "  \"payment_intent\": null,\n",
              "  \"payment_link\": null,\n",
              "  \"payment_method_collection\": \"always\",\n",
              "  \"payment_method_configuration_details\": null,\n",
              "  \"payment_method_options\": {\n",
              "    \"card\": {\n",
              "      \"request_three_d_secure\": \"automatic\"\n",
              "    }\n",
              "  },\n",
              "  \"payment_method_types\": [\n",
              "    \"card\"\n",
              "  ],\n",
              "  \"payment_status\": \"unpaid\",\n",
              "  \"phone_number_collection\": {\n",
              "    \"enabled\": false\n",
              "  },\n",
              "  \"recovered_from\": null,\n",
              "  \"saved_payment_method_options\": {\n",
              "    \"allow_redisplay_filters\": [\n",
              "      \"always\"\n",
              "    ],\n",
              "    \"payment_method_remove\": null,\n",
              "    \"payment_method_save\": null\n",
              "  },\n",
              "  \"setup_intent\": null,\n",
              "  \"shipping_address_collection\": null,\n",
              "  \"shipping_cost\": null,\n",
              "  \"shipping_details\": null,\n",
              "  \"shipping_options\": [],\n",
              "  \"status\": \"open\",\n",
              "  \"submit_type\": null,\n",
              "  \"subscription\": null,\n",
              "  \"success_url\": \"https://your-website.com/success\",\n",
              "  \"total_details\": {\n",
              "    \"amount_discount\": 0,\n",
              "    \"amount_shipping\": 0,\n",
              "    \"amount_tax\": 0\n",
              "  },\n",
              "  \"ui_mode\": \"hosted\",\n",
              "  \"url\": \"https://checkout.stripe.com/c/pay/cs_test_a1xWVppCrvd1mebBHjDYEwR342oYef2nbsvjXs72kxpVIfBBC65IFhfWk0#fidkdWxOYHwnPyd1blpxYHZxWjA0SktjYm1OblduSE1cVVYzbE8zVkxWPFRpNzNvMjM9S3FnUGZqPHJDTm1oSVVjaG9cdXNIaFB0MFExMUs3fXBfdWlQYnZdYExIU1BxTXVDVE1BPTVSMEEzNTVGNGIwaG1CRCcpJ2N3amhWYHdzYHcnP3F3cGApJ2lkfGpwcVF8dWAnPyd2bGtiaWBabHFgaCcpJ2BrZGdpYFVpZGZgbWppYWB3dic%2FcXdwYHgl\"\n",
              "}"
            ]
          },
          "metadata": {},
          "execution_count": 15
        }
      ],
      "source": [
        "#subscibe a plan using stripe checkout\n",
        "import time\n",
        "\n",
        "trial_end_timestamp = int(time.time()) + (7 * 24 * 60 * 60)\n",
        "\n",
        "# session = stripe.checkout.Session.create(\n",
        "#         payment_method_types=['card'],\n",
        "#         mode='subscription',\n",
        "#         customer=\"cus_Padl1tjvqzibUw\",\n",
        "#         subscription_data={\n",
        "#             'items': [{\n",
        "#                 'plan': 'plan_PZdIdMo0w60uBw',  # Replace with your actual plan ID\n",
        "#             }],\n",
        "#              'trial_end': trial_end_timestamp\n",
        "#         },\n",
        "#         success_url='https://your-website.com/success',\n",
        "#         cancel_url='https://your-website.com/cancel',\n",
        "#     )\n",
        "\n",
        "# session\n",
        "\n",
        "\n",
        "session = stripe.checkout.Session.create(\n",
        "        payment_method_types=['card'],\n",
        "        mode='subscription',\n",
        "        customer=\"cus_QBkmw5wCChjxSI\",\n",
        "        subscription_data={\n",
        "            'items': [{\n",
        "                'plan': 'plan_QBklykocaVJLl5',  # Replace with your actual plan ID\n",
        "            }],\n",
        "\n",
        "        },\n",
        "        success_url='https://your-website.com/success',\n",
        "        cancel_url='https://your-website.com/cancel',\n",
        "    )\n",
        "\n",
        "session\n"
      ]
    },
    {
      "cell_type": "code",
      "execution_count": null,
      "metadata": {
        "colab": {
          "background_save": true
        },
        "id": "0nwEvIDZoAqc"
      },
      "outputs": [],
      "source": [
        "subscriptions = stripe.Subscription.list(customer=\"cus_PaMCF3aWTFePpU\")\n",
        "subscriptions"
      ]
    },
    {
      "cell_type": "code",
      "execution_count": null,
      "metadata": {
        "id": "MNG3bRswADb2"
      },
      "outputs": [],
      "source": []
    }
  ],
  "metadata": {
    "colab": {
      "provenance": [],
      "include_colab_link": true
    },
    "kernelspec": {
      "display_name": "Python 3",
      "name": "python3"
    },
    "language_info": {
      "name": "python"
    }
  },
  "nbformat": 4,
  "nbformat_minor": 0
}